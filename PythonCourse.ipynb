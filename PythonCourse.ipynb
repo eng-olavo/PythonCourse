{
  "nbformat": 4,
  "nbformat_minor": 0,
  "metadata": {
    "colab": {
      "provenance": [],
      "authorship_tag": "ABX9TyPGqE25K9gUxOmmUfE1WGQz",
      "include_colab_link": true
    },
    "kernelspec": {
      "name": "python3",
      "display_name": "Python 3"
    },
    "language_info": {
      "name": "python"
    }
  },
  "cells": [
    {
      "cell_type": "markdown",
      "metadata": {
        "id": "view-in-github",
        "colab_type": "text"
      },
      "source": [
        "<a href=\"https://colab.research.google.com/github/eng-olavo/PythonCourse/blob/main/PythonCourse.ipynb\" target=\"_parent\"><img src=\"https://colab.research.google.com/assets/colab-badge.svg\" alt=\"Open In Colab\"/></a>"
      ]
    },
    {
      "cell_type": "markdown",
      "source": [
        "⚡**Print**\n",
        "\n",
        "\n",
        "**F-Strings**\n"
      ],
      "metadata": {
        "id": "3MmxcXOr-udS"
      }
    },
    {
      "cell_type": "markdown",
      "source": [
        "escrevendo uma string...."
      ],
      "metadata": {
        "id": "PVnlj_G9_Ge7"
      }
    },
    {
      "cell_type": "code",
      "source": [
        "txt = f\"Hello World\"\n",
        "print(txt)"
      ],
      "metadata": {
        "colab": {
          "base_uri": "https://localhost:8080/"
        },
        "id": "8nbdrsdM-4Gr",
        "outputId": "349520fe-69f9-4d58-b016-b607727b1e04"
      },
      "execution_count": 62,
      "outputs": [
        {
          "output_type": "stream",
          "name": "stdout",
          "text": [
            "Hello World\n"
          ]
        }
      ]
    },
    {
      "cell_type": "markdown",
      "source": [
        "Placeholders ....\n"
      ],
      "metadata": {
        "id": "nFV0GYj2_M7y"
      }
    },
    {
      "cell_type": "code",
      "source": [
        "nome = \"Olavo\"\n",
        "idade = 53\n",
        "\n",
        "print(f\"Meu nome é {nome}, eu tenho {idade} anos!\")"
      ],
      "metadata": {
        "colab": {
          "base_uri": "https://localhost:8080/"
        },
        "id": "e7aB-RQy_QAJ",
        "outputId": "805fa9a2-a0b9-4607-fd07-5fa3f5c4bb99"
      },
      "execution_count": 63,
      "outputs": [
        {
          "output_type": "stream",
          "name": "stdout",
          "text": [
            "Meu nome é Olavo, eu tenho 53 anos!\n"
          ]
        }
      ]
    },
    {
      "cell_type": "markdown",
      "source": [
        "Casas decimais ...\n"
      ],
      "metadata": {
        "id": "wy3YC0vQ_xAz"
      }
    },
    {
      "cell_type": "code",
      "source": [
        "preco = 100\n",
        "\n",
        "print(f\"O preço do produto é {preco:.2f}\")"
      ],
      "metadata": {
        "colab": {
          "base_uri": "https://localhost:8080/"
        },
        "id": "AkfhtNhs_zBb",
        "outputId": "9b9bccea-0bc9-44a6-9455-991b281bc11a"
      },
      "execution_count": 64,
      "outputs": [
        {
          "output_type": "stream",
          "name": "stdout",
          "text": [
            "O preço do produto é 100.00\n"
          ]
        }
      ]
    },
    {
      "cell_type": "markdown",
      "source": [
        "Operações matemáticas dentro das f-strings...."
      ],
      "metadata": {
        "id": "Sdla-MyKBF6C"
      }
    },
    {
      "cell_type": "code",
      "source": [
        "parcelas = 12\n",
        "valor_parcela = 100\n",
        "\n",
        "print(f\"O valor total do produto é = {parcelas * valor_parcela:.2f}\")"
      ],
      "metadata": {
        "colab": {
          "base_uri": "https://localhost:8080/"
        },
        "id": "4A0qgqJuABOp",
        "outputId": "f217f2e0-20f1-4d28-9eef-a598b2ad30a2"
      },
      "execution_count": 65,
      "outputs": [
        {
          "output_type": "stream",
          "name": "stdout",
          "text": [
            "O valor total do produto é = 1200.00\n"
          ]
        }
      ]
    },
    {
      "cell_type": "markdown",
      "source": [
        "Condicionais dentro das f-strings...."
      ],
      "metadata": {
        "id": "F9b8a2vDBMwR"
      }
    },
    {
      "cell_type": "code",
      "source": [
        "preco = 100\n",
        "\n",
        "print(f\"O produto está {'barato' if preco < 1000 else 'caro'}\")"
      ],
      "metadata": {
        "colab": {
          "base_uri": "https://localhost:8080/"
        },
        "id": "ORpIQpfrAmkR",
        "outputId": "cd0f15fb-6014-4e98-a36a-09bf20882cfb"
      },
      "execution_count": 66,
      "outputs": [
        {
          "output_type": "stream",
          "name": "stdout",
          "text": [
            "O produto está barato\n"
          ]
        }
      ]
    },
    {
      "cell_type": "markdown",
      "source": [
        "Métodos dentro das f-strings....."
      ],
      "metadata": {
        "id": "uWLa9wnoBUxg"
      }
    },
    {
      "cell_type": "code",
      "source": [
        "nome  ='Olavo'\n",
        "\n",
        "print(f\"{nome.upper()}\")"
      ],
      "metadata": {
        "colab": {
          "base_uri": "https://localhost:8080/"
        },
        "id": "NiB7TV8SBX4S",
        "outputId": "0b3e4a78-781a-4220-dfd6-ffcd1d3bdb15"
      },
      "execution_count": 67,
      "outputs": [
        {
          "output_type": "stream",
          "name": "stdout",
          "text": [
            "OLAVO\n"
          ]
        }
      ]
    },
    {
      "cell_type": "markdown",
      "source": [
        "Functions dentro das f-strings....\n"
      ],
      "metadata": {
        "id": "pw4IPdNNBtS5"
      }
    },
    {
      "cell_type": "code",
      "source": [
        "def myconverter(x):\n",
        "  return x * 0.3048\n",
        "\n",
        "txt = f\"The plane is flying at a {myconverter(30000)} meter altitude\"\n",
        "print(txt)"
      ],
      "metadata": {
        "colab": {
          "base_uri": "https://localhost:8080/"
        },
        "id": "_Q8r4tzcBxfC",
        "outputId": "bba5c3f9-d546-420e-fa61-e6159f4da9d8"
      },
      "execution_count": 68,
      "outputs": [
        {
          "output_type": "stream",
          "name": "stdout",
          "text": [
            "The plane is flying at a 9144.0 meter altitude\n"
          ]
        }
      ]
    },
    {
      "cell_type": "code",
      "source": [
        "TCelsius = 32\n",
        "\n",
        "def ToFarenheit(x):\n",
        "  return x * 1.8 + 32\n",
        "\n",
        "txt = f\"A temperatura {TCelsius} °C em Farenheit é {ToFarenheit(TCelsius)} °F\"\n",
        "print(txt)"
      ],
      "metadata": {
        "colab": {
          "base_uri": "https://localhost:8080/"
        },
        "id": "tGH7xvrAB8p5",
        "outputId": "fab8547b-1553-4147-fbfd-c4388693f472"
      },
      "execution_count": 69,
      "outputs": [
        {
          "output_type": "stream",
          "name": "stdout",
          "text": [
            "A temperatura 32 °C em Farenheit é 89.6 °F\n"
          ]
        }
      ]
    },
    {
      "cell_type": "markdown",
      "source": [
        "Usando separador , entre os milhares...."
      ],
      "metadata": {
        "id": "0FXu9N9bC2Er"
      }
    },
    {
      "cell_type": "code",
      "source": [
        "preco = 1000000\n",
        "\n",
        "print(f\"O preço da mercadoria é {preco:.2f}\")\n",
        "\n",
        "print(f\"O preço da mercadoria é {preco:,.2f}\")\n",
        "\n",
        "desconto = 0.20\n",
        "\n",
        "print(f\"O desconto é de : {desconto:%}\")"
      ],
      "metadata": {
        "colab": {
          "base_uri": "https://localhost:8080/"
        },
        "id": "jJiWRVA1C5vh",
        "outputId": "453908bf-1e66-48cc-b013-8db666f64427"
      },
      "execution_count": 70,
      "outputs": [
        {
          "output_type": "stream",
          "name": "stdout",
          "text": [
            "O preço da mercadoria é 1000000.00\n",
            "O preço da mercadoria é 1,000,000.00\n",
            "O desconto é de : 20.000000%\n"
          ]
        }
      ]
    },
    {
      "cell_type": "code",
      "source": [
        "desconto = 0.20\n",
        "\n",
        "print(f\"O desconto é de : {desconto:.2%}\")"
      ],
      "metadata": {
        "colab": {
          "base_uri": "https://localhost:8080/"
        },
        "id": "AEwwG0suFPlB",
        "outputId": "c942bf3e-0e0a-45f2-831b-38fc80231578"
      },
      "execution_count": 71,
      "outputs": [
        {
          "output_type": "stream",
          "name": "stdout",
          "text": [
            "O desconto é de : 20.00%\n"
          ]
        }
      ]
    },
    {
      "cell_type": "markdown",
      "source": [
        "multiplas variáveis...."
      ],
      "metadata": {
        "id": "aD3zfgdcGULB"
      }
    },
    {
      "cell_type": "code",
      "source": [
        "preco_unitario = 10\n",
        "quantidade = 6\n",
        "preco_total = preco_unitario * quantidade\n",
        "\n",
        "print(f\"O valor unitário é : {preco_unitario:.2f}, a quantidade é : {quantidade}, O preço total é {preco_total:.2f}\")\n"
      ],
      "metadata": {
        "colab": {
          "base_uri": "https://localhost:8080/"
        },
        "id": "uHjj7C1oGXjZ",
        "outputId": "0fc48b13-2b77-4c83-fc37-b0a955c39ae1"
      },
      "execution_count": 72,
      "outputs": [
        {
          "output_type": "stream",
          "name": "stdout",
          "text": [
            "O valor unitário é : 10.00, a quantidade é : 6, O preço total é 60.00\n"
          ]
        }
      ]
    },
    {
      "cell_type": "markdown",
      "source": [
        "usando a moeda local...."
      ],
      "metadata": {
        "id": "2vOv9xvILPZp"
      }
    },
    {
      "cell_type": "code",
      "source": [
        "from babel.numbers import format_currency\n",
        "\n",
        "valor = 1234.56\n",
        "moeda = \"BRL\"\n",
        "\n",
        "print(format_currency(valor, moeda, locale='pt_BR'))  # Exibe: R$ 1.234,56\n"
      ],
      "metadata": {
        "colab": {
          "base_uri": "https://localhost:8080/"
        },
        "id": "vhuQmyphLO9k",
        "outputId": "89f64676-77b9-4cc3-cf8f-02bdf8c27e61"
      },
      "execution_count": 73,
      "outputs": [
        {
          "output_type": "stream",
          "name": "stdout",
          "text": [
            "R$ 1.234,56\n"
          ]
        }
      ]
    },
    {
      "cell_type": "markdown",
      "source": [
        "\n",
        "\n",
        "---\n",
        "\n"
      ],
      "metadata": {
        "id": "TBCpM-hgIowJ"
      }
    },
    {
      "cell_type": "markdown",
      "source": [
        "⚡**Input**\n",
        "\n",
        "\n",
        "Entrada de dados..."
      ],
      "metadata": {
        "id": "6Dbwn3uAIs4q"
      }
    },
    {
      "cell_type": "code",
      "source": [
        "username = input(\"Enter username:\")\n",
        "print(\"Hello \" + username + \"!\")"
      ],
      "metadata": {
        "colab": {
          "base_uri": "https://localhost:8080/"
        },
        "id": "updaQd-4Iy0A",
        "outputId": "0abc1768-17ae-49c9-9761-392dc5ca7efe"
      },
      "execution_count": 74,
      "outputs": [
        {
          "output_type": "stream",
          "name": "stdout",
          "text": [
            "Enter username:ooo\n",
            "Hello ooo!\n"
          ]
        }
      ]
    },
    {
      "cell_type": "code",
      "source": [
        "a = int(input(\"primeiro número: \"))\n",
        "b = int(input(\"segundo número: \"))\n",
        "print(\"soma  = \", a + b)"
      ],
      "metadata": {
        "colab": {
          "base_uri": "https://localhost:8080/"
        },
        "id": "nmKsnqmxJjhJ",
        "outputId": "e74bf279-cf4a-49e2-cc43-2818b2407a00"
      },
      "execution_count": 75,
      "outputs": [
        {
          "output_type": "stream",
          "name": "stdout",
          "text": [
            "primeiro número: 1\n",
            "segundo número: 2\n",
            "soma  =  3\n"
          ]
        }
      ]
    },
    {
      "cell_type": "code",
      "source": [
        "h = float(input(\"Digite sua altura: \"))\n",
        "p = int(input(\"Digite seu peso: \"))\n",
        "imc = p / (h * h)\n",
        "print(f\"Seu IMC é: {imc:.2f}\")"
      ],
      "metadata": {
        "colab": {
          "base_uri": "https://localhost:8080/"
        },
        "id": "veIz7_Z7J0Ck",
        "outputId": "008b4289-ac41-42e4-8451-7de9574b946d"
      },
      "execution_count": 76,
      "outputs": [
        {
          "output_type": "stream",
          "name": "stdout",
          "text": [
            "Digite sua altura: 1.75\n",
            "Digite seu peso: 77\n",
            "Seu IMC é: 25.14\n"
          ]
        }
      ]
    },
    {
      "cell_type": "markdown",
      "source": [
        "\n",
        "\n",
        "---\n",
        "\n"
      ],
      "metadata": {
        "id": "maIo5ya1O4zB"
      }
    },
    {
      "cell_type": "markdown",
      "source": [
        "⚡**IF ELSE**\n",
        "\n",
        "Desvios condicionais...."
      ],
      "metadata": {
        "id": "Zh-E0AC7NdG6"
      }
    },
    {
      "cell_type": "markdown",
      "source": [
        "Equals: a == b\n",
        "\n",
        "Not Equals: a != b\n",
        "\n",
        "Less than: a < b\n",
        "\n",
        "Less than or equal to: a <= b\n",
        "\n",
        "Greater than: a > b\n",
        "\n",
        "Greater than or equal to: a >= b\n"
      ],
      "metadata": {
        "id": "SzEm5ULfNnX5"
      }
    },
    {
      "cell_type": "code",
      "source": [
        "a = int(input(\"Digite um número: \"))\n",
        "b = int(input(\"Digite outro número: \"))\n",
        "\n",
        "if a > b:\n",
        "  print(f\"{a} é maior que {b}\")\n",
        "elif a == b:\n",
        "  print(f\"{a} é igual a {b}\")\n",
        "else:\n",
        "  print(f\"{a} é menor que {b}\")"
      ],
      "metadata": {
        "colab": {
          "base_uri": "https://localhost:8080/"
        },
        "id": "WuMQkaYRNiL5",
        "outputId": "669720da-7b7b-4c12-f481-a54d9bcb5612"
      },
      "execution_count": 77,
      "outputs": [
        {
          "output_type": "stream",
          "name": "stdout",
          "text": [
            "Digite um número: 12\n",
            "Digite outro número: 3\n",
            "12 é maior que 3\n"
          ]
        }
      ]
    },
    {
      "cell_type": "markdown",
      "source": [
        "Jogo de dado..."
      ],
      "metadata": {
        "id": "Ctld-dRqPgd5"
      }
    },
    {
      "cell_type": "code",
      "source": [
        "import random\n",
        "\n",
        "\n",
        "pontos_jogador1 = 100\n",
        "jogador1 = int(input(\"Jogador 1, digite um número de 1 a 6: \"))\n",
        "aposta = int(input(f\"Qual a sua aposta? (entre 1 e {pontos_jogador1})\"))\n",
        "\n",
        "\n",
        "# Gerar um número aleatório entre 1 e 6\n",
        "dado = random.randint(1, 6)\n",
        "\n",
        "print(f\"Número sorteado... ({dado})!\")\n",
        "\n",
        "if jogador1 == dado:\n",
        "  print(f\"Você acertou...\")\n",
        "  pontos_jogador1 = pontos_jogador1 + (aposta * 6)\n",
        "  print(f\"Agora você tem : {pontos_jogador1} pontos\")\n",
        "else:\n",
        "  print(f\"Você errou...\")\n",
        "  pontos_jogador1 -= aposta\n",
        "  print(f\"Agora você tem : {pontos_jogador1} pontos\")\n",
        "  if pontos_jogador1 <= 0:\n",
        "    print(\"Você perdeu o jogo!\")"
      ],
      "metadata": {
        "colab": {
          "base_uri": "https://localhost:8080/"
        },
        "id": "bSFNCZRRO9ng",
        "outputId": "dd13fcb0-2cc1-4bfd-f5f9-5ce1d31ab159"
      },
      "execution_count": 78,
      "outputs": [
        {
          "output_type": "stream",
          "name": "stdout",
          "text": [
            "Jogador 1, digite um número de 1 a 6: 4\n",
            "Qual a sua aposta? (entre 1 e 100)2\n",
            "Número sorteado... (4)!\n",
            "Você acertou...\n",
            "Agora você tem : 112 pontos\n"
          ]
        }
      ]
    },
    {
      "cell_type": "markdown",
      "source": [
        "⚡**FOR LOOPS**\n",
        "\n",
        "Estruturas de repetição...."
      ],
      "metadata": {
        "id": "TYq6CNBmXPQp"
      }
    },
    {
      "cell_type": "markdown",
      "source": [
        "Range Function..."
      ],
      "metadata": {
        "id": "2TaFvlNvYYiq"
      }
    },
    {
      "cell_type": "code",
      "source": [
        "for x in range(10):\n",
        "  print(x)"
      ],
      "metadata": {
        "colab": {
          "base_uri": "https://localhost:8080/"
        },
        "id": "J5s0p-zKXVIw",
        "outputId": "2545ab3d-8be7-4377-90e3-903ae3094cfa"
      },
      "execution_count": 79,
      "outputs": [
        {
          "output_type": "stream",
          "name": "stdout",
          "text": [
            "0\n",
            "1\n",
            "2\n",
            "3\n",
            "4\n",
            "5\n",
            "6\n",
            "7\n",
            "8\n",
            "9\n"
          ]
        }
      ]
    },
    {
      "cell_type": "code",
      "source": [
        "for y in range(0,10):\n",
        "  print(y)"
      ],
      "metadata": {
        "colab": {
          "base_uri": "https://localhost:8080/"
        },
        "id": "bbope1VQYfn5",
        "outputId": "d0ca4d42-faea-4fb8-a9cf-a1fb08541d86"
      },
      "execution_count": 80,
      "outputs": [
        {
          "output_type": "stream",
          "name": "stdout",
          "text": [
            "0\n",
            "1\n",
            "2\n",
            "3\n",
            "4\n",
            "5\n",
            "6\n",
            "7\n",
            "8\n",
            "9\n"
          ]
        }
      ]
    },
    {
      "cell_type": "code",
      "source": [
        "for z in range(0,10,2):\n",
        "  print(z)"
      ],
      "metadata": {
        "colab": {
          "base_uri": "https://localhost:8080/"
        },
        "id": "xcMyqa5aYuCx",
        "outputId": "c4c19029-d97a-4c40-f28c-97cadef51427"
      },
      "execution_count": 81,
      "outputs": [
        {
          "output_type": "stream",
          "name": "stdout",
          "text": [
            "0\n",
            "2\n",
            "4\n",
            "6\n",
            "8\n"
          ]
        }
      ]
    },
    {
      "cell_type": "markdown",
      "source": [
        "percorrendo strings..."
      ],
      "metadata": {
        "id": "gSRBKPq8ZR9K"
      }
    },
    {
      "cell_type": "code",
      "source": [
        "x = \"string\"\n",
        "\n",
        "for y in x:\n",
        "  print(y)"
      ],
      "metadata": {
        "colab": {
          "base_uri": "https://localhost:8080/"
        },
        "id": "r1W5iLI1ZUHy",
        "outputId": "aa3149d2-a029-4339-caf5-904ec1ffa61e"
      },
      "execution_count": 82,
      "outputs": [
        {
          "output_type": "stream",
          "name": "stdout",
          "text": [
            "s\n",
            "t\n",
            "r\n",
            "i\n",
            "n\n",
            "g\n"
          ]
        }
      ]
    },
    {
      "cell_type": "markdown",
      "source": [
        "percorrendo listas, tuplas, etc ..."
      ],
      "metadata": {
        "id": "w4slsNUmZEyr"
      }
    },
    {
      "cell_type": "code",
      "source": [
        "cidades = ['Recife', 'São Paulo', 'Rio de Janeiro']\n",
        "\n",
        "for x in cidades:\n",
        "  print(x)"
      ],
      "metadata": {
        "colab": {
          "base_uri": "https://localhost:8080/"
        },
        "id": "LW6-FH8vZIiL",
        "outputId": "cfaffda9-ba97-41de-aa6e-3e8cc53889c6"
      },
      "execution_count": 83,
      "outputs": [
        {
          "output_type": "stream",
          "name": "stdout",
          "text": [
            "Recife\n",
            "São Paulo\n",
            "Rio de Janeiro\n"
          ]
        }
      ]
    },
    {
      "cell_type": "markdown",
      "source": [
        "Break, Continue and Pass.....\n"
      ],
      "metadata": {
        "id": "7xEUxF8op8Di"
      }
    },
    {
      "cell_type": "code",
      "source": [
        "fruits = [\"apple\", \"banana\", \"cherry\"]\n",
        "for x in fruits:\n",
        "  print(x)\n",
        "  if x == \"banana\":\n",
        "    break"
      ],
      "metadata": {
        "colab": {
          "base_uri": "https://localhost:8080/"
        },
        "id": "coAHBwrYp_pz",
        "outputId": "1badc073-2bb7-47b1-8577-e44d07cce906"
      },
      "execution_count": 84,
      "outputs": [
        {
          "output_type": "stream",
          "name": "stdout",
          "text": [
            "apple\n",
            "banana\n"
          ]
        }
      ]
    },
    {
      "cell_type": "code",
      "source": [
        "fruits = [\"apple\", \"banana\", \"cherry\"]\n",
        "for x in fruits:\n",
        "  if x == \"banana\":\n",
        "    continue\n",
        "  print(x)"
      ],
      "metadata": {
        "colab": {
          "base_uri": "https://localhost:8080/"
        },
        "id": "dFdGYG6SqN6Q",
        "outputId": "a2704bb2-535e-45f3-862c-48180895e601"
      },
      "execution_count": 85,
      "outputs": [
        {
          "output_type": "stream",
          "name": "stdout",
          "text": [
            "apple\n",
            "cherry\n"
          ]
        }
      ]
    },
    {
      "cell_type": "code",
      "source": [
        "for x in [0, 1, 2]:\n",
        "  pass"
      ],
      "metadata": {
        "id": "_OqhGstYqVdQ"
      },
      "execution_count": 86,
      "outputs": []
    },
    {
      "cell_type": "markdown",
      "source": [
        "Nested Loops ...\n"
      ],
      "metadata": {
        "id": "rqMzZiNeqbAY"
      }
    },
    {
      "cell_type": "code",
      "source": [
        "adj = [\"red\", \"big\", \"tasty\"]\n",
        "fruits = [\"apple\", \"banana\", \"cherry\"]\n",
        "\n",
        "for x in adj:\n",
        "  for y in fruits:\n",
        "    print(x, y)"
      ],
      "metadata": {
        "colab": {
          "base_uri": "https://localhost:8080/"
        },
        "id": "-bkUYkR9qdaA",
        "outputId": "e3d3e623-db2b-40b9-81ea-4236ce7810a3"
      },
      "execution_count": 87,
      "outputs": [
        {
          "output_type": "stream",
          "name": "stdout",
          "text": [
            "red apple\n",
            "red banana\n",
            "red cherry\n",
            "big apple\n",
            "big banana\n",
            "big cherry\n",
            "tasty apple\n",
            "tasty banana\n",
            "tasty cherry\n"
          ]
        }
      ]
    },
    {
      "cell_type": "markdown",
      "source": [
        "ELSE in a FOR LOOP...."
      ],
      "metadata": {
        "id": "bwigCVgOqjKY"
      }
    },
    {
      "cell_type": "code",
      "source": [
        "for x in range(6):\n",
        "  if x == 3: break\n",
        "  print(x)\n",
        "else:\n",
        "  print(\"Finally finished!\")"
      ],
      "metadata": {
        "colab": {
          "base_uri": "https://localhost:8080/"
        },
        "id": "Dufrgn7_qlev",
        "outputId": "d517d7d3-aa90-4ee1-eb82-2ffe5e08c800"
      },
      "execution_count": 88,
      "outputs": [
        {
          "output_type": "stream",
          "name": "stdout",
          "text": [
            "0\n",
            "1\n",
            "2\n"
          ]
        }
      ]
    },
    {
      "cell_type": "code",
      "source": [
        "for x in range(6):\n",
        "  if x == 3: continue\n",
        "  print(x)\n",
        "else:\n",
        "  print(\"Finally finished!\")"
      ],
      "metadata": {
        "colab": {
          "base_uri": "https://localhost:8080/"
        },
        "id": "2YnrlTJOqryA",
        "outputId": "7ae34673-0a47-42e0-af7e-98d0bc2c9002"
      },
      "execution_count": 89,
      "outputs": [
        {
          "output_type": "stream",
          "name": "stdout",
          "text": [
            "0\n",
            "1\n",
            "2\n",
            "4\n",
            "5\n",
            "Finally finished!\n"
          ]
        }
      ]
    },
    {
      "cell_type": "markdown",
      "source": [
        "\n",
        "\n",
        "---\n",
        "\n"
      ],
      "metadata": {
        "id": "Z_mi49c3q0f8"
      }
    },
    {
      "cell_type": "markdown",
      "source": [
        "⚡**WHILE LOOPS**\n",
        "\n",
        "Estruturas de repetição...."
      ],
      "metadata": {
        "id": "mt_Es5aFq1dm"
      }
    },
    {
      "cell_type": "code",
      "source": [
        "i = 1\n",
        "while i < 6:\n",
        "  print(i)\n",
        "  if i == 3:\n",
        "    break\n",
        "  i += 1"
      ],
      "metadata": {
        "colab": {
          "base_uri": "https://localhost:8080/"
        },
        "id": "wPc51oIUrZSq",
        "outputId": "51b9924b-7ad0-4340-b55d-ef510e78bcb2"
      },
      "execution_count": 90,
      "outputs": [
        {
          "output_type": "stream",
          "name": "stdout",
          "text": [
            "1\n",
            "2\n",
            "3\n"
          ]
        }
      ]
    },
    {
      "cell_type": "code",
      "source": [
        "i = 0\n",
        "while i < 6:\n",
        "  i += 1\n",
        "  if i == 3:\n",
        "    continue\n",
        "  print(i)"
      ],
      "metadata": {
        "colab": {
          "base_uri": "https://localhost:8080/"
        },
        "id": "T_S6Ywgtq8Ly",
        "outputId": "7b59cd64-dd79-4408-ccf6-1d8ada96d493"
      },
      "execution_count": 91,
      "outputs": [
        {
          "output_type": "stream",
          "name": "stdout",
          "text": [
            "1\n",
            "2\n",
            "4\n",
            "5\n",
            "6\n"
          ]
        }
      ]
    },
    {
      "cell_type": "code",
      "source": [
        "i = 1\n",
        "while i < 6:\n",
        "  print(i)\n",
        "  i += 1\n",
        "else:\n",
        "  print(\"i is no longer less than 6\")"
      ],
      "metadata": {
        "colab": {
          "base_uri": "https://localhost:8080/"
        },
        "id": "u2SZ_sPNrgXQ",
        "outputId": "388ef92a-eea1-4040-979f-4841855c5d38"
      },
      "execution_count": 92,
      "outputs": [
        {
          "output_type": "stream",
          "name": "stdout",
          "text": [
            "1\n",
            "2\n",
            "3\n",
            "4\n",
            "5\n",
            "i is no longer less than 6\n"
          ]
        }
      ]
    },
    {
      "cell_type": "code",
      "source": [
        "game = 1\n",
        "answer = 'y'\n",
        "while answer == 'y':\n",
        "  print(f\"partida {game}\")\n",
        "  answer = input(\"Do you want to continue? (y/n)\")\n",
        "  game+=1\n",
        "print(\"Game Over\")"
      ],
      "metadata": {
        "colab": {
          "base_uri": "https://localhost:8080/"
        },
        "id": "C9JIXL6grDZp",
        "outputId": "90fdbc3b-2a76-4a69-b47b-dbc825a2bfe3"
      },
      "execution_count": 93,
      "outputs": [
        {
          "output_type": "stream",
          "name": "stdout",
          "text": [
            "partida 1\n",
            "Do you want to continue? (y/n)n\n",
            "Game Over\n"
          ]
        }
      ]
    },
    {
      "cell_type": "markdown",
      "source": [
        "\n",
        "\n",
        "---\n",
        "\n"
      ],
      "metadata": {
        "id": "9A9wfbdPGLqS"
      }
    },
    {
      "cell_type": "markdown",
      "source": [
        "⚡** Functions**\n"
      ],
      "metadata": {
        "id": "Kch8ix_RGMf6"
      }
    },
    {
      "cell_type": "markdown",
      "source": [
        "Criando uma function ...."
      ],
      "metadata": {
        "id": "7yOXCeErGXc7"
      }
    },
    {
      "cell_type": "code",
      "source": [
        "def my_function():\n",
        "  print(\"Hello from a function\")"
      ],
      "metadata": {
        "id": "sNGAZVSYGVbK"
      },
      "execution_count": 94,
      "outputs": []
    },
    {
      "cell_type": "markdown",
      "source": [
        "executando uma function ..."
      ],
      "metadata": {
        "id": "BkfZkwIYGePT"
      }
    },
    {
      "cell_type": "code",
      "source": [
        "my_function()"
      ],
      "metadata": {
        "colab": {
          "base_uri": "https://localhost:8080/"
        },
        "id": "Uc9QqT4dGgax",
        "outputId": "e16c92d9-0009-4b51-c188-e6e59fa5d43b"
      },
      "execution_count": 95,
      "outputs": [
        {
          "output_type": "stream",
          "name": "stdout",
          "text": [
            "Hello from a function\n"
          ]
        }
      ]
    },
    {
      "cell_type": "markdown",
      "source": [
        "passando argumentos para a fuction ...\n"
      ],
      "metadata": {
        "id": "xqcoQsqnGpP6"
      }
    },
    {
      "cell_type": "code",
      "source": [
        "def my_function(firstname):\n",
        "  print(firstname + \" Melo\")"
      ],
      "metadata": {
        "id": "iUEAJIStGtEx"
      },
      "execution_count": 96,
      "outputs": []
    },
    {
      "cell_type": "code",
      "source": [
        "my_function('Olavo')\n",
        "my_function('Mariana')"
      ],
      "metadata": {
        "colab": {
          "base_uri": "https://localhost:8080/"
        },
        "id": "QFO3CWgHG17Z",
        "outputId": "d8043c3d-6047-421c-d6b9-700dc117e89d"
      },
      "execution_count": 97,
      "outputs": [
        {
          "output_type": "stream",
          "name": "stdout",
          "text": [
            "Olavo Melo\n",
            "Mariana Melo\n"
          ]
        }
      ]
    },
    {
      "cell_type": "markdown",
      "source": [
        "\n",
        "\n",
        "---\n",
        "\n"
      ],
      "metadata": {
        "id": "af1s_aQlLaaj"
      }
    },
    {
      "cell_type": "markdown",
      "source": [
        "⚡ **Classes**"
      ],
      "metadata": {
        "id": "rREGxxvJLbMS"
      }
    },
    {
      "cell_type": "code",
      "source": [
        "class Person:\n",
        "  def __init__(self, name, age):\n",
        "    self.name = name\n",
        "    self.age = age\n",
        "\n",
        "  def myfunc(self):\n",
        "    print(\"Hello my name is \" + self.name)\n",
        "\n",
        "p1 = Person(\"John\", 36)\n",
        "p1.myfunc()"
      ],
      "metadata": {
        "colab": {
          "base_uri": "https://localhost:8080/"
        },
        "id": "C0FkIdD-LjFZ",
        "outputId": "764c7873-4780-4152-f963-fd797af6f274"
      },
      "execution_count": 98,
      "outputs": [
        {
          "output_type": "stream",
          "name": "stdout",
          "text": [
            "Hello my name is John\n"
          ]
        }
      ]
    },
    {
      "cell_type": "code",
      "source": [
        "class ContaCorrente:\n",
        "  def __init__(self, nome, agencia, conta, senha, saldo):\n",
        "    self.nome = nome\n",
        "    self.agencia = agencia\n",
        "    self.conta = conta\n",
        "    self.senha = senha\n",
        "    self.saldo = saldo\n",
        "\n",
        "  def saque(self, valor):\n",
        "    self.saldo -= valor\n",
        "\n",
        "  def deposito(self, valor):\n",
        "    self.saldo += valor\n",
        "\n"
      ],
      "metadata": {
        "id": "MKrlcNT4Lrd7"
      },
      "execution_count": 99,
      "outputs": []
    },
    {
      "cell_type": "code",
      "source": [
        "cc1= ContaCorrente('Olavo',3873,280667,1234,1000)\n"
      ],
      "metadata": {
        "id": "aFV1QdizMlDi"
      },
      "execution_count": 100,
      "outputs": []
    },
    {
      "cell_type": "code",
      "source": [
        "print(cc1.nome)\n",
        "print(cc1.agencia)\n",
        "print(cc1.conta)\n",
        "print(cc1.senha)\n",
        "print(cc1.saldo)"
      ],
      "metadata": {
        "colab": {
          "base_uri": "https://localhost:8080/"
        },
        "id": "IwzEwZzmM0Hx",
        "outputId": "aa636975-66f0-4e7d-c5e3-894e641462b0"
      },
      "execution_count": 101,
      "outputs": [
        {
          "output_type": "stream",
          "name": "stdout",
          "text": [
            "Olavo\n",
            "3873\n",
            "280667\n",
            "1234\n",
            "1000\n"
          ]
        }
      ]
    },
    {
      "cell_type": "code",
      "source": [
        "cc1.deposito(100)"
      ],
      "metadata": {
        "id": "XtiED-beM7jB"
      },
      "execution_count": 102,
      "outputs": []
    },
    {
      "cell_type": "code",
      "source": [
        "cc1.saldo"
      ],
      "metadata": {
        "colab": {
          "base_uri": "https://localhost:8080/"
        },
        "id": "oNO3SmSSNACZ",
        "outputId": "67d786a2-eb0e-4427-ccfe-96a48fca7899"
      },
      "execution_count": 103,
      "outputs": [
        {
          "output_type": "execute_result",
          "data": {
            "text/plain": [
              "1100"
            ]
          },
          "metadata": {},
          "execution_count": 103
        }
      ]
    },
    {
      "cell_type": "code",
      "source": [
        "cc1.saque(50)\n",
        "cc1.saldo"
      ],
      "metadata": {
        "colab": {
          "base_uri": "https://localhost:8080/"
        },
        "id": "JjiTtYjqNCty",
        "outputId": "f289d32c-f000-45ad-9e27-652288957ca1"
      },
      "execution_count": 104,
      "outputs": [
        {
          "output_type": "execute_result",
          "data": {
            "text/plain": [
              "1050"
            ]
          },
          "metadata": {},
          "execution_count": 104
        }
      ]
    },
    {
      "cell_type": "code",
      "source": [
        "cc1.saldo = 100000000\n",
        "cc1.saldo"
      ],
      "metadata": {
        "colab": {
          "base_uri": "https://localhost:8080/"
        },
        "id": "pOhI1W43NPMo",
        "outputId": "00b72289-3ccf-4dac-8b4f-0c6d520b9f8a"
      },
      "execution_count": 105,
      "outputs": [
        {
          "output_type": "execute_result",
          "data": {
            "text/plain": [
              "100000000"
            ]
          },
          "metadata": {},
          "execution_count": 105
        }
      ]
    },
    {
      "cell_type": "markdown",
      "source": [
        "Herança em Classes..."
      ],
      "metadata": {
        "id": "57p7gsSIZafT"
      }
    },
    {
      "cell_type": "code",
      "source": [
        "class Student(Person):\n",
        "  def __init__(self, fname, lname, year):\n",
        "    super().__init__(fname, lname)\n",
        "    self.graduationyear = year\n",
        "\n",
        "  def welcome(self):\n",
        "    print(\"Welcome\", self.fname, self.lname, \"to the class of\", self.graduationyear)"
      ],
      "metadata": {
        "id": "05JqjbysZc0Y"
      },
      "execution_count": 106,
      "outputs": []
    },
    {
      "cell_type": "code",
      "source": [
        "s1 = Student(\"Mariana\",\"Melo\",2000)"
      ],
      "metadata": {
        "id": "CsOvY931Zeow"
      },
      "execution_count": 107,
      "outputs": []
    },
    {
      "cell_type": "code",
      "source": [
        "print(s1.graduationyear)"
      ],
      "metadata": {
        "colab": {
          "base_uri": "https://localhost:8080/"
        },
        "id": "YrEEHldsZrgu",
        "outputId": "72b2d2f9-cc3c-4700-e880-311a89c3d1a7"
      },
      "execution_count": 108,
      "outputs": [
        {
          "output_type": "stream",
          "name": "stdout",
          "text": [
            "2000\n"
          ]
        }
      ]
    },
    {
      "cell_type": "code",
      "source": [
        "print(s1.name)"
      ],
      "metadata": {
        "colab": {
          "base_uri": "https://localhost:8080/"
        },
        "id": "2wPd64gRasJy",
        "outputId": "27ae98dd-b715-4ac8-b923-8a5820274971"
      },
      "execution_count": 109,
      "outputs": [
        {
          "output_type": "stream",
          "name": "stdout",
          "text": [
            "Mariana\n"
          ]
        }
      ]
    },
    {
      "cell_type": "code",
      "source": [
        "# Parent Class 1\n",
        "class Animal:\n",
        "    def __init__(self, name):\n",
        "        self.name = name\n",
        "\n",
        "    def speak(self):\n",
        "        return \"I make a sound\"\n",
        "\n",
        "# Parent Class 2\n",
        "class Walker:\n",
        "    def walk(self):\n",
        "        return f\"{self.name} is walking.\"\n",
        "\n",
        "# Child Class that inherits from both Animal and Walker\n",
        "class Dog(Animal, Walker):\n",
        "    def __init__(self, name, breed):\n",
        "        super().__init__(name)  # Calling Animal's __init__\n",
        "        self.breed = breed\n",
        "\n",
        "    def speak(self):\n",
        "        return \"Woof!\"\n",
        "\n",
        "# Creating an instance of Dog\n",
        "dog = Dog(\"Buddy\", \"Golden Retriever\")\n",
        "\n",
        "# Calling methods\n",
        "print(f\"{dog.name} ({dog.breed}) says: {dog.speak()}\")  # Output: Buddy (Golden Retriever) says: Woof!\n",
        "print(dog.walk())  # Output: Buddy is walking.\n"
      ],
      "metadata": {
        "colab": {
          "base_uri": "https://localhost:8080/"
        },
        "id": "X7y2F1iXdm34",
        "outputId": "d0e1bcbf-a2bf-428b-c1dd-69f597679e2a"
      },
      "execution_count": 110,
      "outputs": [
        {
          "output_type": "stream",
          "name": "stdout",
          "text": [
            "Buddy (Golden Retriever) says: Woof!\n",
            "Buddy is walking.\n"
          ]
        }
      ]
    },
    {
      "cell_type": "markdown",
      "source": [
        "Crie uma classe base Vehicle com um método move(). Depois, crie duas classes filhas Car e Boat que sobrescrevem o método move(). Por fim, crie uma classe AmphibiousVehicle que herda de ambas e combina seus comportamentos."
      ],
      "metadata": {
        "id": "sl6lcpFpeSWh"
      }
    },
    {
      "cell_type": "code",
      "source": [
        "class vehicle:\n",
        "  def move(self):\n",
        "    print(\"I´m a moving vehicle\")\n",
        "\n",
        "class car(vehicle):\n",
        "  def move(self):\n",
        "    print(\"I´m a moving car\")\n",
        "\n",
        "class boat(vehicle):\n",
        "  def move(self):\n",
        "    print(\"I´m a moving boat\")\n",
        "\n",
        "class amphibiousVehicle(car, boat):\n",
        "  def move(self):\n",
        "    print(\"I´m a moving amphibious vehicle\")"
      ],
      "metadata": {
        "id": "R9ynL-xKeOHB"
      },
      "execution_count": 117,
      "outputs": []
    },
    {
      "cell_type": "code",
      "source": [
        "v1 = vehicle()\n",
        "v1.move()"
      ],
      "metadata": {
        "colab": {
          "base_uri": "https://localhost:8080/"
        },
        "id": "GTflaPmygF8Z",
        "outputId": "03170a99-313b-4b02-b41e-eadb7ce2002a"
      },
      "execution_count": 118,
      "outputs": [
        {
          "output_type": "stream",
          "name": "stdout",
          "text": [
            "I´m a moving vehicle\n"
          ]
        }
      ]
    },
    {
      "cell_type": "code",
      "source": [
        "a1 = amphibiousVehicle()\n",
        "a1.move()"
      ],
      "metadata": {
        "colab": {
          "base_uri": "https://localhost:8080/"
        },
        "id": "AYuI37X4g6eo",
        "outputId": "9fb44185-dc36-48cc-d9fb-7afd6dd697fc"
      },
      "execution_count": 119,
      "outputs": [
        {
          "output_type": "stream",
          "name": "stdout",
          "text": [
            "I´m a moving amphibious vehicle\n"
          ]
        }
      ]
    },
    {
      "cell_type": "markdown",
      "source": [
        "\n",
        "\n",
        "---\n",
        "\n"
      ],
      "metadata": {
        "id": "_pCHPicYkZJy"
      }
    },
    {
      "cell_type": "code",
      "source": [
        "class Veiculo:\n",
        "    def __init__(self, marca, modelo, ano):\n",
        "        self.marca = marca\n",
        "        self.modelo = modelo\n",
        "        self.ano = ano\n",
        "\n",
        "    def exibir_info(self):\n",
        "        print(f\"{self.ano} {self.marca} {self.modelo}\")\n",
        "\n",
        "    def mover(self):\n",
        "        print(\"O veículo está em movimento\")\n",
        "\n",
        "# Classe Carro com atributo específico: numero_de_portas\n",
        "class Carro(Veiculo):\n",
        "    def __init__(self, marca, modelo, ano, numero_de_portas):\n",
        "        super().__init__(marca, modelo, ano)\n",
        "        self.numero_de_portas = numero_de_portas\n",
        "\n",
        "    def mover(self):\n",
        "        print(\"O carro está dirigindo na estrada\")\n",
        "\n",
        "# Classe Moto com atributo específico: cilindrada\n",
        "class Moto(Veiculo):\n",
        "    def __init__(self, marca, modelo, ano, cilindrada):\n",
        "        super().__init__(marca, modelo, ano)\n",
        "        self.cilindrada = cilindrada\n",
        "\n",
        "    def mover(self):\n",
        "        print(\"A moto está acelerando na pista\")\n",
        "\n",
        "# Classe Caminhão com atributo específico: capacidade_de_carga\n",
        "class Caminhao(Veiculo):\n",
        "    def __init__(self, marca, modelo, ano, capacidade_de_carga):\n",
        "        super().__init__(marca, modelo, ano)\n",
        "        self.capacidade_de_carga = capacidade_de_carga  # Em toneladas\n",
        "\n",
        "    def mover(self):\n",
        "        print(\"O caminhão está transportando carga\")\n",
        "\n",
        "# Classe Ônibus com atributo específico: numero_de_passageiros\n",
        "class Onibus(Veiculo):\n",
        "    def __init__(self, marca, modelo, ano, numero_de_passageiros):\n",
        "        super().__init__(marca, modelo, ano)\n",
        "        self.numero_de_passageiros = numero_de_passageiros\n",
        "\n",
        "    def mover(self):\n",
        "        print(\"O ônibus está transportando passageiros\")\n",
        "\n",
        "# Criando instâncias com os novos atributos\n",
        "carro = Carro(\"Toyota\", \"Corolla\", 2022, 4)\n",
        "moto = Moto(\"Honda\", \"CB500\", 2023, 500)\n",
        "caminhao = Caminhao(\"Volvo\", \"FH16\", 2021, 25)\n",
        "onibus = Onibus(\"Mercedes-Benz\", \"O500\", 2020, 50)\n",
        "\n",
        "# Testando os métodos e atributos específicos\n",
        "print(\".....................................\")\n",
        "carro.exibir_info()\n",
        "print(f\"Portas: {carro.numero_de_portas}\")\n",
        "carro.mover()\n",
        "\n",
        "print(\".....................................\")\n",
        "moto.exibir_info()\n",
        "print(f\"Cilindrada: {moto.cilindrada} cc\")\n",
        "moto.mover()\n",
        "\n",
        "print(\".....................................\")\n",
        "caminhao.exibir_info()\n",
        "print(f\"Capacidade de carga: {caminhao.capacidade_de_carga} toneladas\")\n",
        "caminhao.mover()\n",
        "\n",
        "print(\".....................................\")\n",
        "onibus.exibir_info()\n",
        "print(f\"Número de passageiros: {onibus.numero_de_passageiros}\")\n",
        "onibus.mover()\n"
      ],
      "metadata": {
        "colab": {
          "base_uri": "https://localhost:8080/"
        },
        "id": "kr26gPdVkaBy",
        "outputId": "20505e11-b37e-4f65-ef8f-4bf0ccea18c8"
      },
      "execution_count": 121,
      "outputs": [
        {
          "output_type": "stream",
          "name": "stdout",
          "text": [
            ".....................................\n",
            "2022 Toyota Corolla\n",
            "Portas: 4\n",
            "O carro está dirigindo na estrada\n",
            ".....................................\n",
            "2023 Honda CB500\n",
            "Cilindrada: 500 cc\n",
            "A moto está acelerando na pista\n",
            ".....................................\n",
            "2021 Volvo FH16\n",
            "Capacidade de carga: 25 toneladas\n",
            "O caminhão está transportando carga\n",
            ".....................................\n",
            "2020 Mercedes-Benz O500\n",
            "Número de passageiros: 50\n",
            "O ônibus está transportando passageiros\n"
          ]
        }
      ]
    },
    {
      "cell_type": "code",
      "source": [
        "class Aluno:\n",
        "    def __init__(self, nome, nota1, nota2, nota3, nota4):\n",
        "        self.nome = nome\n",
        "        self.notas = [nota1, nota2, nota3, nota4]\n",
        "        self.media = self.calcular_media()\n",
        "        self.situacao = self.verificar_aprovacao()  # Determina se o aluno foi aprovado\n",
        "\n",
        "    def calcular_media(self):\n",
        "        return sum(self.notas) / len(self.notas)\n",
        "\n",
        "    def verificar_aprovacao(self):\n",
        "        return \"Aprovado\" if self.media >= 7 else \"Reprovado\"\n",
        "\n",
        "    def exibir_info(self):\n",
        "        print(f\"Aluno: {self.nome}\")\n",
        "        print(f\"Notas: {self.notas}\")\n",
        "        print(f\"Média: {self.media:.2f}\")\n",
        "        print(f\"Situação: {self.situacao}\")\n",
        "\n",
        "# Criando instâncias e testando\n",
        "aluno1 = Aluno(\"Carlos Silva\", 8.5, 7.0, 9.2, 6.8)\n",
        "aluno2 = Aluno(\"Mariana Souza\", 5.0, 6.5, 7.0, 6.0)\n",
        "\n",
        "aluno1.exibir_info()\n",
        "print()\n",
        "aluno2.exibir_info()\n"
      ],
      "metadata": {
        "colab": {
          "base_uri": "https://localhost:8080/"
        },
        "id": "aWdWt0OEmXy5",
        "outputId": "ee63fa16-0ae8-4297-cda4-3cd94d6a3cdc"
      },
      "execution_count": 123,
      "outputs": [
        {
          "output_type": "stream",
          "name": "stdout",
          "text": [
            "Aluno: Carlos Silva\n",
            "Notas: [8.5, 7.0, 9.2, 6.8]\n",
            "Média: 7.88\n",
            "Situação: Aprovado\n",
            "\n",
            "Aluno: Mariana Souza\n",
            "Notas: [5.0, 6.5, 7.0, 6.0]\n",
            "Média: 6.12\n",
            "Situação: Reprovado\n"
          ]
        }
      ]
    },
    {
      "cell_type": "markdown",
      "source": [
        "\n",
        "\n",
        "---\n",
        "\n"
      ],
      "metadata": {
        "id": "bWyRJ5Pyoy8R"
      }
    },
    {
      "cell_type": "code",
      "source": [
        "import math\n",
        "\n",
        "class FormaGeometrica:\n",
        "    def calcular_area(self):\n",
        "        pass  # Método abstrato, será implementado nas subclasses\n",
        "\n",
        "class Circulo(FormaGeometrica):\n",
        "    def __init__(self, raio):\n",
        "        self.raio = raio\n",
        "        self.area = self.calcular_area()  # Armazena a área calculada\n",
        "\n",
        "    def calcular_area(self):\n",
        "        return math.pi * (self.raio ** 2)\n",
        "\n",
        "    def exibir_info(self):\n",
        "        print(f\"Círculo - Raio: {self.raio}, Área: {self.area:.2f}\")\n",
        "\n",
        "class Retangulo(FormaGeometrica):\n",
        "    def __init__(self, base, altura):\n",
        "        self.base = base\n",
        "        self.altura = altura\n",
        "        self.area = self.calcular_area()  # Armazena a área calculada\n",
        "\n",
        "    def calcular_area(self):\n",
        "        return self.base * self.altura\n",
        "\n",
        "    def exibir_info(self):\n",
        "        print(f\"Retângulo - Base: {self.base}, Altura: {self.altura}, Área: {self.area:.2f}\")\n",
        "\n",
        "class Triangulo(FormaGeometrica):\n",
        "    def __init__(self, lado1, lado2, lado3):\n",
        "        if not self.triangulo_valido(lado1, lado2, lado3):\n",
        "            raise ValueError(\"Os lados informados não formam um triângulo válido.\")\n",
        "        self.lado1 = lado1\n",
        "        self.lado2 = lado2\n",
        "        self.lado3 = lado3\n",
        "        self.area = self.calcular_area()  # Armazena a área calculada\n",
        "\n",
        "    def triangulo_valido(self, a, b, c):\n",
        "        return a + b > c and a + c > b and b + c > a\n",
        "\n",
        "    def calcular_area(self):\n",
        "        # Fórmula de Heron para calcular a área de um triângulo a partir dos lados\n",
        "        s = (self.lado1 + self.lado2 + self.lado3) / 2\n",
        "        return math.sqrt(s * (s - self.lado1) * (s - self.lado2) * (s - self.lado3))\n",
        "\n",
        "    def exibir_info(self):\n",
        "        print(f\"Triângulo - Lados: {self.lado1}, {self.lado2}, {self.lado3}, Área: {self.area:.2f}\")\n",
        "\n",
        "# Criando instâncias e testando os cálculos\n",
        "circulo = Circulo(5)\n",
        "retangulo = Retangulo(10, 4)\n",
        "\n",
        "try:\n",
        "    triangulo = Triangulo(7, 8, 9)  # Lados válidos\n",
        "    triangulo.exibir_info()\n",
        "except ValueError as e:\n",
        "    print(e)\n",
        "\n",
        "try:\n",
        "    triangulo_invalido = Triangulo(1, 2, 10)  # Lados inválidos\n",
        "    triangulo_invalido.exibir_info()\n",
        "except ValueError as e:\n",
        "    print(e)\n",
        "\n",
        "# Exibir informações das formas geométricas\n",
        "circulo.exibir_info()\n",
        "retangulo.exibir_info()\n"
      ],
      "metadata": {
        "colab": {
          "base_uri": "https://localhost:8080/"
        },
        "id": "NEZnk7lUozoJ",
        "outputId": "27613682-f46f-4911-b00e-1a606681c0d9"
      },
      "execution_count": 125,
      "outputs": [
        {
          "output_type": "stream",
          "name": "stdout",
          "text": [
            "Triângulo - Lados: 7, 8, 9, Área: 26.83\n",
            "Os lados informados não formam um triângulo válido.\n",
            "Círculo - Raio: 5, Área: 78.54\n",
            "Retângulo - Base: 10, Altura: 4, Área: 40.00\n"
          ]
        }
      ]
    },
    {
      "cell_type": "markdown",
      "source": [
        "\n",
        "\n",
        "---\n",
        "\n"
      ],
      "metadata": {
        "id": "Wz0Mi1yrwPZi"
      }
    },
    {
      "cell_type": "markdown",
      "source": [
        "⚡**Lambda Functions**"
      ],
      "metadata": {
        "id": "KClNYLizwQY4"
      }
    },
    {
      "cell_type": "code",
      "source": [
        "x = lambda a : a + 10\n",
        "print(x(5))"
      ],
      "metadata": {
        "colab": {
          "base_uri": "https://localhost:8080/"
        },
        "id": "Qm41-GAWxRhf",
        "outputId": "7b8525fe-6001-44dd-94b9-aa370c20adb3"
      },
      "execution_count": 128,
      "outputs": [
        {
          "output_type": "stream",
          "name": "stdout",
          "text": [
            "15\n"
          ]
        }
      ]
    },
    {
      "cell_type": "code",
      "source": [
        "x = lambda a, b : a * b\n",
        "print(x(5, 6))"
      ],
      "metadata": {
        "colab": {
          "base_uri": "https://localhost:8080/"
        },
        "id": "6bOijrTexPMg",
        "outputId": "057cc4f0-3279-441c-f496-761d836fe508"
      },
      "execution_count": 127,
      "outputs": [
        {
          "output_type": "stream",
          "name": "stdout",
          "text": [
            "30\n"
          ]
        }
      ]
    },
    {
      "cell_type": "code",
      "source": [
        "x = lambda a, b, c : a + b + c\n",
        "print(x(5, 6, 2))"
      ],
      "metadata": {
        "colab": {
          "base_uri": "https://localhost:8080/"
        },
        "id": "I_lBTE3kwaVx",
        "outputId": "9eb6296d-088a-48ad-dad0-ad54a3a16ba2"
      },
      "execution_count": 126,
      "outputs": [
        {
          "output_type": "stream",
          "name": "stdout",
          "text": [
            "13\n"
          ]
        }
      ]
    },
    {
      "cell_type": "code",
      "source": [
        "delta = lambda a,b,c,x : (a*(x*x)) + (b*x) + c\n",
        "print(delta(1,2,1,2))"
      ],
      "metadata": {
        "colab": {
          "base_uri": "https://localhost:8080/"
        },
        "id": "i1hT-kYsxStZ",
        "outputId": "029f408c-1916-4943-a885-e375ca9d19ec"
      },
      "execution_count": 131,
      "outputs": [
        {
          "output_type": "stream",
          "name": "stdout",
          "text": [
            "9\n"
          ]
        }
      ]
    },
    {
      "cell_type": "code",
      "source": [
        "import math\n",
        "\n",
        "delta = lambda a, b, c: (b**2) - (4*a*c)\n",
        "root1 = lambda a, b, d: (-b + math.sqrt(d)) / (2 * a)\n",
        "root2 = lambda a, b, d: (-b - math.sqrt(d)) / (2 * a)\n",
        "\n",
        "def quadratic_roots(a, b, c):\n",
        "    d = delta(a, b, c)\n",
        "    if d < 0:\n",
        "        return \"No real roots\"\n",
        "    elif d == 0:\n",
        "        return root1(a, b, d)  # Only one root\n",
        "    else:\n",
        "        return root1(a, b, d), root2(a, b, d)\n",
        "\n",
        "# Example usage:\n",
        "print(quadratic_roots(1, 2, 1))  # Solving x² + 2x + 1 = 0\n",
        "print(quadratic_roots(1, -3, 2))  # Solving x² - 3x + 2 = 0\n"
      ],
      "metadata": {
        "colab": {
          "base_uri": "https://localhost:8080/"
        },
        "id": "0Ks2GD-3yolT",
        "outputId": "4d9109c0-f471-42b8-adaf-d4216ce300cb"
      },
      "execution_count": 132,
      "outputs": [
        {
          "output_type": "stream",
          "name": "stdout",
          "text": [
            "-1.0\n",
            "(2.0, 1.0)\n"
          ]
        }
      ]
    },
    {
      "cell_type": "markdown",
      "source": [
        "Parábola ...."
      ],
      "metadata": {
        "id": "SQibTLm7zTM5"
      }
    },
    {
      "cell_type": "code",
      "source": [
        "import math\n",
        "\n",
        "class Parabola:\n",
        "    def __init__(self, a, b, c):\n",
        "        self.a = a\n",
        "        self.b = b\n",
        "        self.c = c\n",
        "\n",
        "    def delta(self):\n",
        "        \"\"\"Calcula o discriminante (delta) da equação do segundo grau.\"\"\"\n",
        "        return self.b ** 2 - 4 * self.a * self.c\n",
        "\n",
        "    def num_raizes(self):\n",
        "        \"\"\"Determina a quantidade de raízes reais da equação.\"\"\"\n",
        "        d = self.delta()\n",
        "        if d > 0:\n",
        "            return 2\n",
        "        elif d == 0:\n",
        "            return 1\n",
        "        else:\n",
        "            return 0\n",
        "\n",
        "    def raizes(self):\n",
        "        \"\"\"Calcula as raízes da equação, se existirem.\"\"\"\n",
        "        d = self.delta()\n",
        "        if d < 0:\n",
        "            return \"Nenhuma raiz real\"\n",
        "        elif d == 0:\n",
        "            x = -self.b / (2 * self.a)\n",
        "            return (x,)\n",
        "        else:\n",
        "            x1 = (-self.b + math.sqrt(d)) / (2 * self.a)\n",
        "            x2 = (-self.b - math.sqrt(d)) / (2 * self.a)\n",
        "            return (x1, x2)\n",
        "\n",
        "    def vertice(self):\n",
        "        \"\"\"Calcula as coordenadas do vértice da parábola.\"\"\"\n",
        "        xv = -self.b / (2 * self.a)\n",
        "        yv = self.a * xv**2 + self.b * xv + self.c\n",
        "        return (xv, yv)\n",
        "\n",
        "    def concavidade(self):\n",
        "        \"\"\"Indica se a concavidade da parábola é para cima ou para baixo.\"\"\"\n",
        "        return \"Para cima\" if self.a > 0 else \"Para baixo\"\n",
        "\n",
        "    def info(self):\n",
        "        \"\"\"Exibe todas as informações sobre a parábola.\"\"\"\n",
        "        return {\n",
        "            \"Delta\": self.delta(),\n",
        "            \"Número de raízes\": self.num_raizes(),\n",
        "            \"Raízes\": self.raizes(),\n",
        "            \"Vértice\": self.vertice(),\n",
        "            \"Concavidade\": self.concavidade()\n",
        "        }\n",
        "\n",
        "# Exemplo de uso:\n",
        "p = Parabola(1, -3, 2)\n",
        "print(p.info())\n"
      ],
      "metadata": {
        "colab": {
          "base_uri": "https://localhost:8080/"
        },
        "id": "T4vsK_BPyp9a",
        "outputId": "1a9706b1-2ad3-4346-8ed3-9d0f1d5610cd"
      },
      "execution_count": 133,
      "outputs": [
        {
          "output_type": "stream",
          "name": "stdout",
          "text": [
            "{'Delta': 1, 'Número de raízes': 2, 'Raízes': (2.0, 1.0), 'Vértice': (1.5, -0.25), 'Concavidade': 'Para cima'}\n"
          ]
        }
      ]
    }
  ]
}