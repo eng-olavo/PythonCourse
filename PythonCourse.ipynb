{
  "nbformat": 4,
  "nbformat_minor": 0,
  "metadata": {
    "colab": {
      "provenance": [],
      "authorship_tag": "ABX9TyPITT0w/MskYr04IJO+pFbO",
      "include_colab_link": true
    },
    "kernelspec": {
      "name": "python3",
      "display_name": "Python 3"
    },
    "language_info": {
      "name": "python"
    }
  },
  "cells": [
    {
      "cell_type": "markdown",
      "metadata": {
        "id": "view-in-github",
        "colab_type": "text"
      },
      "source": [
        "<a href=\"https://colab.research.google.com/github/eng-olavo/PythonCourse/blob/main/PythonCourse.ipynb\" target=\"_parent\"><img src=\"https://colab.research.google.com/assets/colab-badge.svg\" alt=\"Open In Colab\"/></a>"
      ]
    },
    {
      "cell_type": "markdown",
      "source": [
        "⚡**Print**\n",
        "\n",
        "\n",
        "**F-Strings**\n"
      ],
      "metadata": {
        "id": "3MmxcXOr-udS"
      }
    },
    {
      "cell_type": "markdown",
      "source": [
        "escrevendo uma string...."
      ],
      "metadata": {
        "id": "PVnlj_G9_Ge7"
      }
    },
    {
      "cell_type": "code",
      "source": [
        "txt = f\"Hello World\"\n",
        "print(txt)"
      ],
      "metadata": {
        "colab": {
          "base_uri": "https://localhost:8080/"
        },
        "id": "8nbdrsdM-4Gr",
        "outputId": "11490042-c6b9-4544-e517-dab07367960d"
      },
      "execution_count": null,
      "outputs": [
        {
          "output_type": "stream",
          "name": "stdout",
          "text": [
            "Hello World\n"
          ]
        }
      ]
    },
    {
      "cell_type": "markdown",
      "source": [
        "Placeholders ....\n"
      ],
      "metadata": {
        "id": "nFV0GYj2_M7y"
      }
    },
    {
      "cell_type": "code",
      "source": [
        "nome = \"Olavo\"\n",
        "idade = 53\n",
        "\n",
        "print(f\"Meu nome é {nome}, eu tenho {idade} anos!\")"
      ],
      "metadata": {
        "colab": {
          "base_uri": "https://localhost:8080/"
        },
        "id": "e7aB-RQy_QAJ",
        "outputId": "846733eb-dc5b-43e5-f2cf-a4530a234d4f"
      },
      "execution_count": null,
      "outputs": [
        {
          "output_type": "stream",
          "name": "stdout",
          "text": [
            "Meu nome é Olavo, eu tenho 53 anos!\n"
          ]
        }
      ]
    },
    {
      "cell_type": "markdown",
      "source": [
        "Casas decimais ...\n"
      ],
      "metadata": {
        "id": "wy3YC0vQ_xAz"
      }
    },
    {
      "cell_type": "code",
      "source": [
        "preco = 100\n",
        "\n",
        "print(f\"O preço do produto é {preco:.2f}\")"
      ],
      "metadata": {
        "colab": {
          "base_uri": "https://localhost:8080/"
        },
        "id": "AkfhtNhs_zBb",
        "outputId": "a4d86fd4-2082-4d1d-dc45-c44ed32c55f2"
      },
      "execution_count": null,
      "outputs": [
        {
          "output_type": "stream",
          "name": "stdout",
          "text": [
            "O preço do produto é 100.00\n"
          ]
        }
      ]
    },
    {
      "cell_type": "markdown",
      "source": [
        "Operações matemáticas dentro das f-strings...."
      ],
      "metadata": {
        "id": "Sdla-MyKBF6C"
      }
    },
    {
      "cell_type": "code",
      "source": [
        "parcelas = 12\n",
        "valor_parcela = 100\n",
        "\n",
        "print(f\"O valor total do produto é = {parcelas * valor_parcela:.2f}\")"
      ],
      "metadata": {
        "colab": {
          "base_uri": "https://localhost:8080/"
        },
        "id": "4A0qgqJuABOp",
        "outputId": "ced03695-ea5a-4ab0-c778-4a8277820273"
      },
      "execution_count": null,
      "outputs": [
        {
          "output_type": "stream",
          "name": "stdout",
          "text": [
            "O valor total do produto é = 1200.00\n"
          ]
        }
      ]
    },
    {
      "cell_type": "markdown",
      "source": [
        "Condicionais dentro das f-strings...."
      ],
      "metadata": {
        "id": "F9b8a2vDBMwR"
      }
    },
    {
      "cell_type": "code",
      "source": [
        "preco = 100\n",
        "\n",
        "print(f\"O produto está {'barato' if preco < 1000 else 'caro'}\")"
      ],
      "metadata": {
        "colab": {
          "base_uri": "https://localhost:8080/"
        },
        "id": "ORpIQpfrAmkR",
        "outputId": "5c70b28c-6d26-45bf-f64e-439fee1ce301"
      },
      "execution_count": null,
      "outputs": [
        {
          "output_type": "stream",
          "name": "stdout",
          "text": [
            "O produto está barato\n"
          ]
        }
      ]
    },
    {
      "cell_type": "markdown",
      "source": [
        "Métodos dentro das f-strings....."
      ],
      "metadata": {
        "id": "uWLa9wnoBUxg"
      }
    },
    {
      "cell_type": "code",
      "source": [
        "nome  ='Olavo'\n",
        "\n",
        "print(f\"{nome.upper()}\")"
      ],
      "metadata": {
        "colab": {
          "base_uri": "https://localhost:8080/"
        },
        "id": "NiB7TV8SBX4S",
        "outputId": "ad8d40c9-0f01-4a24-fb5e-fd97ec732e33"
      },
      "execution_count": null,
      "outputs": [
        {
          "output_type": "stream",
          "name": "stdout",
          "text": [
            "OLAVO\n"
          ]
        }
      ]
    },
    {
      "cell_type": "markdown",
      "source": [
        "Functions dentro das f-strings....\n"
      ],
      "metadata": {
        "id": "pw4IPdNNBtS5"
      }
    },
    {
      "cell_type": "code",
      "source": [
        "def myconverter(x):\n",
        "  return x * 0.3048\n",
        "\n",
        "txt = f\"The plane is flying at a {myconverter(30000)} meter altitude\"\n",
        "print(txt)"
      ],
      "metadata": {
        "colab": {
          "base_uri": "https://localhost:8080/"
        },
        "id": "_Q8r4tzcBxfC",
        "outputId": "79d8f4ac-2456-4bee-8392-91a87e619dcb"
      },
      "execution_count": null,
      "outputs": [
        {
          "output_type": "stream",
          "name": "stdout",
          "text": [
            "The plane is flying at a 9144.0 meter altitude\n"
          ]
        }
      ]
    },
    {
      "cell_type": "code",
      "source": [
        "TCelsius = 32\n",
        "\n",
        "def ToFarenheit(x):\n",
        "  return x * 1.8 + 32\n",
        "\n",
        "txt = f\"A temperatura {TCelsius} °C em Farenheit é {ToFarenheit(TCelsius)} °F\"\n",
        "print(txt)"
      ],
      "metadata": {
        "colab": {
          "base_uri": "https://localhost:8080/"
        },
        "id": "tGH7xvrAB8p5",
        "outputId": "0be4f263-62c8-472b-8f81-dd9ea13699b8"
      },
      "execution_count": null,
      "outputs": [
        {
          "output_type": "stream",
          "name": "stdout",
          "text": [
            "A temperatura 32 °C em Farenheit é 89.6 °F\n"
          ]
        }
      ]
    },
    {
      "cell_type": "markdown",
      "source": [
        "Usando separador , entre os milhares...."
      ],
      "metadata": {
        "id": "0FXu9N9bC2Er"
      }
    },
    {
      "cell_type": "code",
      "source": [
        "preco = 1000000\n",
        "\n",
        "print(f\"O preço da mercadoria é {preco:.2f}\")\n",
        "\n",
        "print(f\"O preço da mercadoria é {preco:,.2f}\")\n",
        "\n",
        "desconto = 0.20\n",
        "\n",
        "print(f\"O desconto é de : {desconto:%}\")"
      ],
      "metadata": {
        "colab": {
          "base_uri": "https://localhost:8080/"
        },
        "id": "jJiWRVA1C5vh",
        "outputId": "0a7be342-04ea-493d-f55b-c5c769171193"
      },
      "execution_count": null,
      "outputs": [
        {
          "output_type": "stream",
          "name": "stdout",
          "text": [
            "O preço da mercadoria é 1000000.00\n",
            "O preço da mercadoria é 1,000,000.00\n",
            "O desconto é de : 20.000000%\n"
          ]
        }
      ]
    },
    {
      "cell_type": "code",
      "source": [
        "desconto = 0.20\n",
        "\n",
        "print(f\"O desconto é de : {desconto:.2%}\")"
      ],
      "metadata": {
        "colab": {
          "base_uri": "https://localhost:8080/"
        },
        "id": "AEwwG0suFPlB",
        "outputId": "4072cc31-bd48-4e62-f7a6-618c19892887"
      },
      "execution_count": null,
      "outputs": [
        {
          "output_type": "stream",
          "name": "stdout",
          "text": [
            "O desconto é de : 20.00%\n"
          ]
        }
      ]
    },
    {
      "cell_type": "markdown",
      "source": [
        "multiplas variáveis...."
      ],
      "metadata": {
        "id": "aD3zfgdcGULB"
      }
    },
    {
      "cell_type": "code",
      "source": [
        "preco_unitario = 10\n",
        "quantidade = 6\n",
        "preco_total = preco_unitario * quantidade\n",
        "\n",
        "print(f\"O valor unitário é : {preco_unitario:.2f}, a quantidade é : {quantidade}, O preço total é {preco_total:.2f}\")\n"
      ],
      "metadata": {
        "colab": {
          "base_uri": "https://localhost:8080/"
        },
        "id": "uHjj7C1oGXjZ",
        "outputId": "f2f2225b-7618-4bb8-f43b-b763a03ebb29"
      },
      "execution_count": null,
      "outputs": [
        {
          "output_type": "stream",
          "name": "stdout",
          "text": [
            "O valor unitário é : 10.00, a quantidade é : 6, O preço total é 60.00\n"
          ]
        }
      ]
    },
    {
      "cell_type": "markdown",
      "source": [
        "usando a moeda local...."
      ],
      "metadata": {
        "id": "2vOv9xvILPZp"
      }
    },
    {
      "cell_type": "code",
      "source": [
        "from babel.numbers import format_currency\n",
        "\n",
        "valor = 1234.56\n",
        "moeda = \"BRL\"\n",
        "\n",
        "print(format_currency(valor, moeda, locale='pt_BR'))  # Exibe: R$ 1.234,56\n"
      ],
      "metadata": {
        "colab": {
          "base_uri": "https://localhost:8080/"
        },
        "id": "vhuQmyphLO9k",
        "outputId": "34b13cfa-b694-4a64-b3a0-ce4a69611205"
      },
      "execution_count": null,
      "outputs": [
        {
          "output_type": "stream",
          "name": "stdout",
          "text": [
            "R$ 1.234,56\n"
          ]
        }
      ]
    },
    {
      "cell_type": "markdown",
      "source": [
        "\n",
        "\n",
        "---\n",
        "\n"
      ],
      "metadata": {
        "id": "TBCpM-hgIowJ"
      }
    },
    {
      "cell_type": "markdown",
      "source": [
        "⚡**Input**\n",
        "\n",
        "\n",
        "Entrada de dados..."
      ],
      "metadata": {
        "id": "6Dbwn3uAIs4q"
      }
    },
    {
      "cell_type": "code",
      "source": [
        "username = input(\"Enter username:\")\n",
        "print(\"Hello \" + username + \"!\")"
      ],
      "metadata": {
        "colab": {
          "base_uri": "https://localhost:8080/"
        },
        "id": "updaQd-4Iy0A",
        "outputId": "501bccd0-d11f-42be-a55a-833ae4f47d0e"
      },
      "execution_count": null,
      "outputs": [
        {
          "output_type": "stream",
          "name": "stdout",
          "text": [
            "Enter username:Chico\n",
            "Hello Chico!\n"
          ]
        }
      ]
    },
    {
      "cell_type": "code",
      "source": [
        "a = int(input(\"primeiro número: \"))\n",
        "b = int(input(\"segundo número: \"))\n",
        "print(\"soma  = \", a + b)"
      ],
      "metadata": {
        "colab": {
          "base_uri": "https://localhost:8080/"
        },
        "id": "nmKsnqmxJjhJ",
        "outputId": "c30ad072-56f8-444f-c579-14ba03bc2e2d"
      },
      "execution_count": null,
      "outputs": [
        {
          "output_type": "stream",
          "name": "stdout",
          "text": [
            "primeiro número: 5\n",
            "segundo número: 7\n",
            "soma  =  12\n"
          ]
        }
      ]
    },
    {
      "cell_type": "code",
      "source": [
        "h = float(input(\"Digite sua altura: \"))\n",
        "p = int(input(\"Digite seu peso: \"))\n",
        "imc = p / (h * h)\n",
        "print(f\"Seu IMC é: {imc:.2f}\")"
      ],
      "metadata": {
        "colab": {
          "base_uri": "https://localhost:8080/"
        },
        "id": "veIz7_Z7J0Ck",
        "outputId": "a32d115c-3cdd-4334-a63f-f1ecdbbf58dc"
      },
      "execution_count": null,
      "outputs": [
        {
          "output_type": "stream",
          "name": "stdout",
          "text": [
            "Digite sua altura: 1.75\n",
            "Digite seu peso: 97\n",
            "Seu IMC é: 31.67\n"
          ]
        }
      ]
    },
    {
      "cell_type": "markdown",
      "source": [
        "\n",
        "\n",
        "---\n",
        "\n"
      ],
      "metadata": {
        "id": "maIo5ya1O4zB"
      }
    },
    {
      "cell_type": "markdown",
      "source": [
        "⚡**IF ELSE**\n",
        "\n",
        "Desvios condicionais...."
      ],
      "metadata": {
        "id": "Zh-E0AC7NdG6"
      }
    },
    {
      "cell_type": "markdown",
      "source": [
        "Equals: a == b\n",
        "\n",
        "Not Equals: a != b\n",
        "\n",
        "Less than: a < b\n",
        "\n",
        "Less than or equal to: a <= b\n",
        "\n",
        "Greater than: a > b\n",
        "\n",
        "Greater than or equal to: a >= b\n"
      ],
      "metadata": {
        "id": "SzEm5ULfNnX5"
      }
    },
    {
      "cell_type": "code",
      "source": [
        "a = int(input(\"Digite um número: \"))\n",
        "b = int(input(\"Digite outro número: \"))\n",
        "\n",
        "if a > b:\n",
        "  print(f\"{a} é maior que {b}\")\n",
        "elif a == b:\n",
        "  print(f\"{a} é igual a {b}\")\n",
        "else:\n",
        "  print(f\"{a} é menor que {b}\")"
      ],
      "metadata": {
        "colab": {
          "base_uri": "https://localhost:8080/"
        },
        "id": "WuMQkaYRNiL5",
        "outputId": "66491dfb-bd1f-4a7b-9ce8-db1d7125e5f8"
      },
      "execution_count": null,
      "outputs": [
        {
          "output_type": "stream",
          "name": "stdout",
          "text": [
            "Digite um número: 8\n",
            "Digite outro número: 8\n",
            "8 é igual a 8\n"
          ]
        }
      ]
    },
    {
      "cell_type": "markdown",
      "source": [
        "Jogo de dado..."
      ],
      "metadata": {
        "id": "Ctld-dRqPgd5"
      }
    },
    {
      "cell_type": "code",
      "source": [
        "import random\n",
        "\n",
        "\n",
        "pontos_jogador1 = 100\n",
        "jogador1 = int(input(\"Jogador 1, digite um número de 1 a 6: \"))\n",
        "aposta = int(input(f\"Qual a sua aposta? (entre 1 e {pontos_jogador1})\"))\n",
        "\n",
        "\n",
        "# Gerar um número aleatório entre 1 e 6\n",
        "dado = random.randint(1, 6)\n",
        "\n",
        "print(f\"Número sorteado... ({dado})!\")\n",
        "\n",
        "if jogador1 == dado:\n",
        "  print(f\"Você acertou...\")\n",
        "  pontos_jogador1 = pontos_jogador1 + (aposta * 6)\n",
        "  print(f\"Agora você tem : {pontos_jogador1} pontos\")\n",
        "else:\n",
        "  print(f\"Você errou...\")\n",
        "  pontos_jogador1 -= aposta\n",
        "  print(f\"Agora você tem : {pontos_jogador1} pontos\")\n",
        "  if pontos_jogador1 <= 0:\n",
        "    print(\"Você perdeu o jogo!\")"
      ],
      "metadata": {
        "colab": {
          "base_uri": "https://localhost:8080/"
        },
        "id": "bSFNCZRRO9ng",
        "outputId": "6e102b26-8d04-43fc-bf2f-2e585626e1c7"
      },
      "execution_count": null,
      "outputs": [
        {
          "output_type": "stream",
          "name": "stdout",
          "text": [
            "Jogador 1, digite um número de 1 a 6: 1\n",
            "Qual a sua aposta? (entre 1 e 100)1\n",
            "Número sorteado... (1)!\n",
            "Você acertou...\n",
            "Agora você tem : 106 pontos\n"
          ]
        }
      ]
    },
    {
      "cell_type": "markdown",
      "source": [
        "⚡**FOR LOOPS**\n",
        "\n",
        "Estruturas de repetição...."
      ],
      "metadata": {
        "id": "TYq6CNBmXPQp"
      }
    },
    {
      "cell_type": "markdown",
      "source": [
        "Range Function..."
      ],
      "metadata": {
        "id": "2TaFvlNvYYiq"
      }
    },
    {
      "cell_type": "code",
      "source": [
        "for x in range(10):\n",
        "  print(x)"
      ],
      "metadata": {
        "colab": {
          "base_uri": "https://localhost:8080/"
        },
        "id": "J5s0p-zKXVIw",
        "outputId": "eea77abc-2d31-49a9-ea3a-4edcc515101e"
      },
      "execution_count": null,
      "outputs": [
        {
          "output_type": "stream",
          "name": "stdout",
          "text": [
            "0\n",
            "1\n",
            "2\n",
            "3\n",
            "4\n",
            "5\n",
            "6\n",
            "7\n",
            "8\n",
            "9\n"
          ]
        }
      ]
    },
    {
      "cell_type": "code",
      "source": [
        "for y in range(0,10):\n",
        "  print(y)"
      ],
      "metadata": {
        "colab": {
          "base_uri": "https://localhost:8080/"
        },
        "id": "bbope1VQYfn5",
        "outputId": "d70a5cf1-7299-4286-960a-4fc93735e956"
      },
      "execution_count": null,
      "outputs": [
        {
          "output_type": "stream",
          "name": "stdout",
          "text": [
            "0\n",
            "1\n",
            "2\n",
            "3\n",
            "4\n",
            "5\n",
            "6\n",
            "7\n",
            "8\n",
            "9\n"
          ]
        }
      ]
    },
    {
      "cell_type": "code",
      "source": [
        "for z in range(0,10,2):\n",
        "  print(z)"
      ],
      "metadata": {
        "colab": {
          "base_uri": "https://localhost:8080/"
        },
        "id": "xcMyqa5aYuCx",
        "outputId": "8c402fe9-0a97-42be-a37a-61723bfff6c5"
      },
      "execution_count": null,
      "outputs": [
        {
          "output_type": "stream",
          "name": "stdout",
          "text": [
            "0\n",
            "2\n",
            "4\n",
            "6\n",
            "8\n"
          ]
        }
      ]
    },
    {
      "cell_type": "markdown",
      "source": [
        "percorrendo strings..."
      ],
      "metadata": {
        "id": "gSRBKPq8ZR9K"
      }
    },
    {
      "cell_type": "code",
      "source": [
        "x = \"string\"\n",
        "\n",
        "for y in x:\n",
        "  print(y)"
      ],
      "metadata": {
        "colab": {
          "base_uri": "https://localhost:8080/"
        },
        "id": "r1W5iLI1ZUHy",
        "outputId": "17ec8cc1-83f7-4c2f-8c36-4955b4e4eced"
      },
      "execution_count": null,
      "outputs": [
        {
          "output_type": "stream",
          "name": "stdout",
          "text": [
            "s\n",
            "t\n",
            "r\n",
            "i\n",
            "n\n",
            "g\n"
          ]
        }
      ]
    },
    {
      "cell_type": "markdown",
      "source": [
        "percorrendo listas, tuplas, etc ..."
      ],
      "metadata": {
        "id": "w4slsNUmZEyr"
      }
    },
    {
      "cell_type": "code",
      "source": [
        "cidades = ['Recife', 'São Paulo', 'Rio de Janeiro']\n",
        "\n",
        "for x in cidades:\n",
        "  print(x)"
      ],
      "metadata": {
        "colab": {
          "base_uri": "https://localhost:8080/"
        },
        "id": "LW6-FH8vZIiL",
        "outputId": "85c3452d-aa8e-4700-ed9f-4a61de46bc83"
      },
      "execution_count": null,
      "outputs": [
        {
          "output_type": "stream",
          "name": "stdout",
          "text": [
            "Recife\n",
            "São Paulo\n",
            "Rio de Janeiro\n"
          ]
        }
      ]
    },
    {
      "cell_type": "markdown",
      "source": [
        "Break, Continue and Pass.....\n"
      ],
      "metadata": {
        "id": "7xEUxF8op8Di"
      }
    },
    {
      "cell_type": "code",
      "source": [
        "fruits = [\"apple\", \"banana\", \"cherry\"]\n",
        "for x in fruits:\n",
        "  print(x)\n",
        "  if x == \"banana\":\n",
        "    break"
      ],
      "metadata": {
        "colab": {
          "base_uri": "https://localhost:8080/"
        },
        "id": "coAHBwrYp_pz",
        "outputId": "e7a2c627-d40c-4071-bcce-55f43a21e8a8"
      },
      "execution_count": null,
      "outputs": [
        {
          "output_type": "stream",
          "name": "stdout",
          "text": [
            "apple\n",
            "banana\n"
          ]
        }
      ]
    },
    {
      "cell_type": "code",
      "source": [
        "fruits = [\"apple\", \"banana\", \"cherry\"]\n",
        "for x in fruits:\n",
        "  if x == \"banana\":\n",
        "    continue\n",
        "  print(x)"
      ],
      "metadata": {
        "colab": {
          "base_uri": "https://localhost:8080/"
        },
        "id": "dFdGYG6SqN6Q",
        "outputId": "3c432de1-7fcb-49d7-a2a0-062568242615"
      },
      "execution_count": null,
      "outputs": [
        {
          "output_type": "stream",
          "name": "stdout",
          "text": [
            "apple\n",
            "cherry\n"
          ]
        }
      ]
    },
    {
      "cell_type": "code",
      "source": [
        "for x in [0, 1, 2]:\n",
        "  pass"
      ],
      "metadata": {
        "id": "_OqhGstYqVdQ"
      },
      "execution_count": null,
      "outputs": []
    },
    {
      "cell_type": "markdown",
      "source": [
        "Nested Loops ...\n"
      ],
      "metadata": {
        "id": "rqMzZiNeqbAY"
      }
    },
    {
      "cell_type": "code",
      "source": [
        "adj = [\"red\", \"big\", \"tasty\"]\n",
        "fruits = [\"apple\", \"banana\", \"cherry\"]\n",
        "\n",
        "for x in adj:\n",
        "  for y in fruits:\n",
        "    print(x, y)"
      ],
      "metadata": {
        "colab": {
          "base_uri": "https://localhost:8080/"
        },
        "id": "-bkUYkR9qdaA",
        "outputId": "4000b829-eb65-4477-87fe-c721c8c8de1e"
      },
      "execution_count": null,
      "outputs": [
        {
          "output_type": "stream",
          "name": "stdout",
          "text": [
            "red apple\n",
            "red banana\n",
            "red cherry\n",
            "big apple\n",
            "big banana\n",
            "big cherry\n",
            "tasty apple\n",
            "tasty banana\n",
            "tasty cherry\n"
          ]
        }
      ]
    },
    {
      "cell_type": "markdown",
      "source": [
        "ELSE in a FOR LOOP...."
      ],
      "metadata": {
        "id": "bwigCVgOqjKY"
      }
    },
    {
      "cell_type": "code",
      "source": [
        "for x in range(6):\n",
        "  if x == 3: break\n",
        "  print(x)\n",
        "else:\n",
        "  print(\"Finally finished!\")"
      ],
      "metadata": {
        "colab": {
          "base_uri": "https://localhost:8080/"
        },
        "id": "Dufrgn7_qlev",
        "outputId": "930318a2-36ff-4cb5-ae20-d9adb8192922"
      },
      "execution_count": null,
      "outputs": [
        {
          "output_type": "stream",
          "name": "stdout",
          "text": [
            "0\n",
            "1\n",
            "2\n"
          ]
        }
      ]
    },
    {
      "cell_type": "code",
      "source": [
        "for x in range(6):\n",
        "  if x == 3: continue\n",
        "  print(x)\n",
        "else:\n",
        "  print(\"Finally finished!\")"
      ],
      "metadata": {
        "colab": {
          "base_uri": "https://localhost:8080/"
        },
        "id": "2YnrlTJOqryA",
        "outputId": "4c4a70b6-7cd3-4f29-a0e2-60dd95cbf6df"
      },
      "execution_count": null,
      "outputs": [
        {
          "output_type": "stream",
          "name": "stdout",
          "text": [
            "0\n",
            "1\n",
            "2\n",
            "4\n",
            "5\n",
            "Finally finished!\n"
          ]
        }
      ]
    },
    {
      "cell_type": "markdown",
      "source": [
        "\n",
        "\n",
        "---\n",
        "\n"
      ],
      "metadata": {
        "id": "Z_mi49c3q0f8"
      }
    },
    {
      "cell_type": "markdown",
      "source": [
        "⚡**WHILE LOOPS**\n",
        "\n",
        "Estruturas de repetição...."
      ],
      "metadata": {
        "id": "mt_Es5aFq1dm"
      }
    },
    {
      "cell_type": "code",
      "source": [
        "i = 1\n",
        "while i < 6:\n",
        "  print(i)\n",
        "  if i == 3:\n",
        "    break\n",
        "  i += 1"
      ],
      "metadata": {
        "colab": {
          "base_uri": "https://localhost:8080/"
        },
        "id": "wPc51oIUrZSq",
        "outputId": "c94c923d-b760-4f85-cb6d-16729c3b47a9"
      },
      "execution_count": null,
      "outputs": [
        {
          "output_type": "stream",
          "name": "stdout",
          "text": [
            "1\n",
            "2\n",
            "3\n"
          ]
        }
      ]
    },
    {
      "cell_type": "code",
      "source": [
        "i = 0\n",
        "while i < 6:\n",
        "  i += 1\n",
        "  if i == 3:\n",
        "    continue\n",
        "  print(i)"
      ],
      "metadata": {
        "colab": {
          "base_uri": "https://localhost:8080/"
        },
        "id": "T_S6Ywgtq8Ly",
        "outputId": "6e08a5f3-35c6-4114-9784-23ec9f877c29"
      },
      "execution_count": null,
      "outputs": [
        {
          "output_type": "stream",
          "name": "stdout",
          "text": [
            "1\n",
            "2\n",
            "4\n",
            "5\n",
            "6\n"
          ]
        }
      ]
    },
    {
      "cell_type": "code",
      "source": [
        "i = 1\n",
        "while i < 6:\n",
        "  print(i)\n",
        "  i += 1\n",
        "else:\n",
        "  print(\"i is no longer less than 6\")"
      ],
      "metadata": {
        "colab": {
          "base_uri": "https://localhost:8080/"
        },
        "id": "u2SZ_sPNrgXQ",
        "outputId": "463a9ea1-5fd9-4c7f-f5b1-5fd9f0cedff5"
      },
      "execution_count": null,
      "outputs": [
        {
          "output_type": "stream",
          "name": "stdout",
          "text": [
            "1\n",
            "2\n",
            "3\n",
            "4\n",
            "5\n",
            "i is no longer less than 6\n"
          ]
        }
      ]
    },
    {
      "cell_type": "code",
      "source": [
        "game = 1\n",
        "answer = 'y'\n",
        "while answer == 'y':\n",
        "  print(f\"partida {game}\")\n",
        "  answer = input(\"Do you want to continue? (y/n)\")\n",
        "  game+=1\n",
        "print(\"Game Over\")"
      ],
      "metadata": {
        "colab": {
          "base_uri": "https://localhost:8080/"
        },
        "id": "C9JIXL6grDZp",
        "outputId": "cb8bd51c-3790-46c0-ae1e-8f241814243c"
      },
      "execution_count": null,
      "outputs": [
        {
          "output_type": "stream",
          "name": "stdout",
          "text": [
            "partida 1\n",
            "Do you want to continue? (y/n)y\n",
            "partida 2\n",
            "Do you want to continue? (y/n)y\n",
            "partida 3\n",
            "Do you want to continue? (y/n)y\n",
            "partida 4\n",
            "Do you want to continue? (y/n)y\n",
            "partida 5\n",
            "Do you want to continue? (y/n)u\n",
            "Game Over\n"
          ]
        }
      ]
    },
    {
      "cell_type": "markdown",
      "source": [
        "\n",
        "\n",
        "---\n",
        "\n"
      ],
      "metadata": {
        "id": "9A9wfbdPGLqS"
      }
    },
    {
      "cell_type": "markdown",
      "source": [
        "⚡** Functions**\n"
      ],
      "metadata": {
        "id": "Kch8ix_RGMf6"
      }
    },
    {
      "cell_type": "markdown",
      "source": [
        "Criando uma function ...."
      ],
      "metadata": {
        "id": "7yOXCeErGXc7"
      }
    },
    {
      "cell_type": "code",
      "source": [
        "def my_function():\n",
        "  print(\"Hello from a function\")"
      ],
      "metadata": {
        "id": "sNGAZVSYGVbK"
      },
      "execution_count": 1,
      "outputs": []
    },
    {
      "cell_type": "markdown",
      "source": [
        "executando uma function ..."
      ],
      "metadata": {
        "id": "BkfZkwIYGePT"
      }
    },
    {
      "cell_type": "code",
      "source": [
        "my_function()"
      ],
      "metadata": {
        "colab": {
          "base_uri": "https://localhost:8080/"
        },
        "id": "Uc9QqT4dGgax",
        "outputId": "3be48d33-57a8-4309-8492-664f1ed9ed66"
      },
      "execution_count": 2,
      "outputs": [
        {
          "output_type": "stream",
          "name": "stdout",
          "text": [
            "Hello from a function\n"
          ]
        }
      ]
    },
    {
      "cell_type": "markdown",
      "source": [
        "passando argumentos para a fuction ...\n"
      ],
      "metadata": {
        "id": "xqcoQsqnGpP6"
      }
    },
    {
      "cell_type": "code",
      "source": [
        "def my_function(firstname):\n",
        "  print(firstname + \" Melo\")"
      ],
      "metadata": {
        "id": "iUEAJIStGtEx"
      },
      "execution_count": 3,
      "outputs": []
    },
    {
      "cell_type": "code",
      "source": [
        "my_function('Olavo')\n",
        "my_function('Mariana')"
      ],
      "metadata": {
        "colab": {
          "base_uri": "https://localhost:8080/"
        },
        "id": "QFO3CWgHG17Z",
        "outputId": "ac45a3cf-496f-4a71-e419-d20786260413"
      },
      "execution_count": 5,
      "outputs": [
        {
          "output_type": "stream",
          "name": "stdout",
          "text": [
            "Olavo Melo\n",
            "Mariana Melo\n"
          ]
        }
      ]
    },
    {
      "cell_type": "markdown",
      "source": [
        "\n",
        "\n",
        "---\n",
        "\n"
      ],
      "metadata": {
        "id": "af1s_aQlLaaj"
      }
    },
    {
      "cell_type": "markdown",
      "source": [
        "⚡ **Classes**"
      ],
      "metadata": {
        "id": "rREGxxvJLbMS"
      }
    },
    {
      "cell_type": "code",
      "source": [
        "class Person:\n",
        "  def __init__(self, name, age):\n",
        "    self.name = name\n",
        "    self.age = age\n",
        "\n",
        "  def myfunc(self):\n",
        "    print(\"Hello my name is \" + self.name)\n",
        "\n",
        "p1 = Person(\"John\", 36)\n",
        "p1.myfunc()"
      ],
      "metadata": {
        "colab": {
          "base_uri": "https://localhost:8080/"
        },
        "id": "C0FkIdD-LjFZ",
        "outputId": "dee0deb4-e67e-48f2-c0db-a657bdf8d109"
      },
      "execution_count": 6,
      "outputs": [
        {
          "output_type": "stream",
          "name": "stdout",
          "text": [
            "Hello my name is John\n"
          ]
        }
      ]
    },
    {
      "cell_type": "code",
      "source": [
        "class ContaCorrente:\n",
        "  def __init__(self, nome, agencia, conta, senha, saldo):\n",
        "    self.nome = nome\n",
        "    self.agencia = agencia\n",
        "    self.conta = conta\n",
        "    self.senha = senha\n",
        "    self.saldo = saldo\n",
        "\n",
        "  def saque(self, valor):\n",
        "    self.saldo -= valor\n",
        "\n",
        "  def deposito(self, valor):\n",
        "    self.saldo += valor\n",
        "\n"
      ],
      "metadata": {
        "id": "MKrlcNT4Lrd7"
      },
      "execution_count": 7,
      "outputs": []
    },
    {
      "cell_type": "code",
      "source": [
        "cc1= ContaCorrente('Olavo',3873,280667,1234,1000)\n"
      ],
      "metadata": {
        "id": "aFV1QdizMlDi"
      },
      "execution_count": 10,
      "outputs": []
    },
    {
      "cell_type": "code",
      "source": [
        "print(cc1.nome)\n",
        "print(cc1.agencia)\n",
        "print(cc1.conta)\n",
        "print(cc1.senha)\n",
        "print(cc1.saldo)"
      ],
      "metadata": {
        "colab": {
          "base_uri": "https://localhost:8080/"
        },
        "id": "IwzEwZzmM0Hx",
        "outputId": "f9a6b8c8-c956-4493-8032-6c492049ae35"
      },
      "execution_count": 12,
      "outputs": [
        {
          "output_type": "stream",
          "name": "stdout",
          "text": [
            "Olavo\n",
            "3873\n",
            "280667\n",
            "1234\n",
            "1000\n"
          ]
        }
      ]
    },
    {
      "cell_type": "code",
      "source": [
        "cc1.deposito(100)"
      ],
      "metadata": {
        "id": "XtiED-beM7jB"
      },
      "execution_count": 13,
      "outputs": []
    },
    {
      "cell_type": "code",
      "source": [
        "cc1.saldo"
      ],
      "metadata": {
        "colab": {
          "base_uri": "https://localhost:8080/"
        },
        "id": "oNO3SmSSNACZ",
        "outputId": "5bf646ab-8913-472f-f636-7b5ee9f78777"
      },
      "execution_count": 14,
      "outputs": [
        {
          "output_type": "execute_result",
          "data": {
            "text/plain": [
              "1100"
            ]
          },
          "metadata": {},
          "execution_count": 14
        }
      ]
    },
    {
      "cell_type": "code",
      "source": [
        "cc1.saque(50)\n",
        "cc1.saldo"
      ],
      "metadata": {
        "colab": {
          "base_uri": "https://localhost:8080/"
        },
        "id": "JjiTtYjqNCty",
        "outputId": "1e3a99aa-d8f7-4e6b-e338-634ec46c881a"
      },
      "execution_count": 15,
      "outputs": [
        {
          "output_type": "execute_result",
          "data": {
            "text/plain": [
              "1050"
            ]
          },
          "metadata": {},
          "execution_count": 15
        }
      ]
    },
    {
      "cell_type": "code",
      "source": [
        "cc1.saldo = 100000000\n",
        "cc1.saldo"
      ],
      "metadata": {
        "colab": {
          "base_uri": "https://localhost:8080/"
        },
        "id": "pOhI1W43NPMo",
        "outputId": "9f49dc71-a464-4ebf-c87d-923807b2efbe"
      },
      "execution_count": 16,
      "outputs": [
        {
          "output_type": "execute_result",
          "data": {
            "text/plain": [
              "100000000"
            ]
          },
          "metadata": {},
          "execution_count": 16
        }
      ]
    }
  ]
}