{
  "nbformat": 4,
  "nbformat_minor": 0,
  "metadata": {
    "colab": {
      "provenance": [],
      "authorship_tag": "ABX9TyPHLztuSzTAgYOEkhuVCprh",
      "include_colab_link": true
    },
    "kernelspec": {
      "name": "python3",
      "display_name": "Python 3"
    },
    "language_info": {
      "name": "python"
    }
  },
  "cells": [
    {
      "cell_type": "markdown",
      "metadata": {
        "id": "view-in-github",
        "colab_type": "text"
      },
      "source": [
        "<a href=\"https://colab.research.google.com/github/eng-olavo/PythonCourse/blob/main/python_exemplos.ipynb\" target=\"_parent\"><img src=\"https://colab.research.google.com/assets/colab-badge.svg\" alt=\"Open In Colab\"/></a>"
      ]
    },
    {
      "cell_type": "code",
      "execution_count": 1,
      "metadata": {
        "id": "FHHpTmi_boY-"
      },
      "outputs": [],
      "source": [
        "def myfunction(nome):\n",
        "  print(f\"Bom dia, {nome}!\")\n"
      ]
    },
    {
      "cell_type": "code",
      "source": [
        "myfunction(\"Olavo\")"
      ],
      "metadata": {
        "colab": {
          "base_uri": "https://localhost:8080/"
        },
        "id": "64scbOHKbzaF",
        "outputId": "ef12c56f-c149-45af-f7fe-99ac7e70f22c"
      },
      "execution_count": 2,
      "outputs": [
        {
          "output_type": "stream",
          "name": "stdout",
          "text": [
            "Bom dia, Olavo!\n"
          ]
        }
      ]
    },
    {
      "cell_type": "markdown",
      "source": [
        "\n",
        "\n",
        "---\n",
        "\n"
      ],
      "metadata": {
        "id": "-C48FX3lb9Bl"
      }
    },
    {
      "cell_type": "code",
      "source": [
        "num = int(input(\"Digite um número entre 0 e 9: \"))\n",
        "\n",
        "if num == 0:\n",
        "  print(f\"Você digitou ZERO!\")\n",
        "elif num ==1:\n",
        "  print(f\"Você digitou UM!\")\n",
        "elif num ==2:\n",
        "  print(f\"Você digitou DOIS!\")\n",
        "elif num==3:\n",
        "  print(f\"Você digitou TRÊS!\")\n",
        "elif num==4:\n",
        "  print(f\"Você digitou QUATRO!\")\n",
        "elif num==5:\n",
        "  print(f\"Você digitou CINCO!\")\n",
        "elif num==6:\n",
        "  print(f\"Você digitou SEIS!\")\n",
        "elif num==7:\n",
        "  print(f\"Você digitou SETE!\")\n",
        "elif num==8:\n",
        "  print(f\"Você digitou OITO!\")\n",
        "elif num==9:\n",
        "  print(f\"Você digitou NOVE!\")\n",
        "else:\n",
        "  print(f\"Você digitou um número errado!\")"
      ],
      "metadata": {
        "colab": {
          "base_uri": "https://localhost:8080/"
        },
        "id": "dg4R21g3b96U",
        "outputId": "0c7bf36f-0163-4b8f-d894-9f52ca7df291"
      },
      "execution_count": 9,
      "outputs": [
        {
          "output_type": "stream",
          "name": "stdout",
          "text": [
            "Digite um número entre 0 e 9: 22\n",
            "Você digitou um número errado!\n"
          ]
        }
      ]
    },
    {
      "cell_type": "markdown",
      "source": [
        "\n",
        "\n",
        "---\n",
        "\n"
      ],
      "metadata": {
        "id": "zr0kYA4Sc_Fm"
      }
    },
    {
      "cell_type": "code",
      "source": [
        "for x in range (0,101,10):\n",
        "  print(x)"
      ],
      "metadata": {
        "colab": {
          "base_uri": "https://localhost:8080/"
        },
        "id": "qc6k91eadAHU",
        "outputId": "0050953b-a907-4e7a-c2cd-c86bc6e456b2"
      },
      "execution_count": 12,
      "outputs": [
        {
          "output_type": "stream",
          "name": "stdout",
          "text": [
            "0\n",
            "10\n",
            "20\n",
            "30\n",
            "40\n",
            "50\n",
            "60\n",
            "70\n",
            "80\n",
            "90\n",
            "100\n"
          ]
        }
      ]
    },
    {
      "cell_type": "code",
      "source": [
        "frutas = [\"laranja\", \"limão\", \"morango\"]\n",
        "\n",
        "for fruta in frutas:\n",
        "  print(fruta)"
      ],
      "metadata": {
        "colab": {
          "base_uri": "https://localhost:8080/"
        },
        "id": "Yiyg-LItdSqk",
        "outputId": "53377402-2279-45e1-9598-3e68a0099021"
      },
      "execution_count": 13,
      "outputs": [
        {
          "output_type": "stream",
          "name": "stdout",
          "text": [
            "laranja\n",
            "limão\n",
            "morango\n"
          ]
        }
      ]
    },
    {
      "cell_type": "code",
      "source": [
        "palavra = 'dicionário'\n",
        "\n",
        "for letra in palavra:\n",
        "  print(letra)"
      ],
      "metadata": {
        "colab": {
          "base_uri": "https://localhost:8080/"
        },
        "id": "ioeJCYTVdf-M",
        "outputId": "78a7f4f9-5378-4c0f-9ba2-894feac7f23b"
      },
      "execution_count": 14,
      "outputs": [
        {
          "output_type": "stream",
          "name": "stdout",
          "text": [
            "d\n",
            "i\n",
            "c\n",
            "i\n",
            "o\n",
            "n\n",
            "á\n",
            "r\n",
            "i\n",
            "o\n"
          ]
        }
      ]
    },
    {
      "cell_type": "markdown",
      "source": [
        "\n",
        "\n",
        "---\n",
        "\n"
      ],
      "metadata": {
        "id": "Az4rn-ZKfnhE"
      }
    },
    {
      "cell_type": "code",
      "source": [
        "class Veiculo:\n",
        "  def __init__(self, placa, ano, marca, modelo):\n",
        "    self.placa = placa\n",
        "    self.ano = ano\n",
        "    self.marca = marca\n",
        "    self.modelo = modelo\n",
        "\n",
        "  def __str__(self):\n",
        "    return f\"placa = {self.placa} / ano = {self.ano} / marca = {self.marca} / modelo = {self.modelo}\"\n",
        "\n",
        "  def info(self):\n",
        "    return print(f\"INFO do veículo \\nplaca = {self.placa} / ano = {self.ano} / marca = {self.marca} / modelo = {self.modelo}\")\n"
      ],
      "metadata": {
        "id": "Vw7_guIsfotb"
      },
      "execution_count": 40,
      "outputs": []
    },
    {
      "cell_type": "code",
      "source": [
        "v1 = Veiculo('ABC-1234', 1998, 'VW', 'GOL')"
      ],
      "metadata": {
        "id": "F7g_yDGqgl-F"
      },
      "execution_count": 41,
      "outputs": []
    },
    {
      "cell_type": "code",
      "source": [
        "print(v1.placa)\n",
        "print(v1.ano)\n",
        "print(v1.marca)\n",
        "print(v1.modelo)"
      ],
      "metadata": {
        "colab": {
          "base_uri": "https://localhost:8080/"
        },
        "id": "vGOJEeE5g7Kd",
        "outputId": "f8168ab7-8882-4a63-d3c6-2e58e3726642"
      },
      "execution_count": 42,
      "outputs": [
        {
          "output_type": "stream",
          "name": "stdout",
          "text": [
            "ABC-1234\n",
            "1998\n",
            "VW\n",
            "GOL\n"
          ]
        }
      ]
    },
    {
      "cell_type": "code",
      "source": [
        "print(v1)"
      ],
      "metadata": {
        "colab": {
          "base_uri": "https://localhost:8080/"
        },
        "id": "GZJuijdmh2Ic",
        "outputId": "b9f079d0-3f46-47e4-c122-8c59bcd3cb59"
      },
      "execution_count": 43,
      "outputs": [
        {
          "output_type": "stream",
          "name": "stdout",
          "text": [
            "placa = ABC-1234 / ano = 1998 / marca = VW / modelo = GOL\n"
          ]
        }
      ]
    },
    {
      "cell_type": "code",
      "source": [
        "v1.info()"
      ],
      "metadata": {
        "colab": {
          "base_uri": "https://localhost:8080/"
        },
        "id": "jzRraGEoixgz",
        "outputId": "491b19f4-6e53-4c1c-96e8-c4e784c8fe30"
      },
      "execution_count": 44,
      "outputs": [
        {
          "output_type": "stream",
          "name": "stdout",
          "text": [
            "INFO do veículo \n",
            "placa = ABC-1234 / ano = 1998 / marca = VW / modelo = GOL\n"
          ]
        }
      ]
    },
    {
      "cell_type": "markdown",
      "source": [
        "\n",
        "\n",
        "---\n",
        "\n"
      ],
      "metadata": {
        "id": "Oww5Dzyjq-sU"
      }
    },
    {
      "cell_type": "code",
      "source": [
        "class Circulo():\n",
        "  pi = 3.14\n",
        "  def __init__(self, raio):\n",
        "    self.raio = raio\n",
        "    self.area = self.area()\n",
        "    self.comprimento = self.comprimento()\n",
        "\n",
        "  def __str__(self):\n",
        "    return f\"raio = {self.raio:.2f} / area = {self.area:.2f} / comprimento = {self.comprimento:.2f}\"\n",
        "\n",
        "  def area(self):\n",
        "    a = (self.raio * self.raio * Circulo.pi)\n",
        "    return a\n",
        "\n",
        "  def comprimento(self):\n",
        "    c = (2 * Circulo.pi * self.raio)\n",
        "    return c\n",
        "\n"
      ],
      "metadata": {
        "id": "k-l-T6J8q_0T"
      },
      "execution_count": 76,
      "outputs": []
    },
    {
      "cell_type": "code",
      "source": [
        "c1 = Circulo(5)"
      ],
      "metadata": {
        "id": "E2Be4w6Rra3r"
      },
      "execution_count": 77,
      "outputs": []
    },
    {
      "cell_type": "code",
      "source": [
        "print(c1)"
      ],
      "metadata": {
        "colab": {
          "base_uri": "https://localhost:8080/"
        },
        "id": "4xoH9T4trhw0",
        "outputId": "0f5702c7-99eb-4555-d3ff-04556a5f4448"
      },
      "execution_count": 78,
      "outputs": [
        {
          "output_type": "stream",
          "name": "stdout",
          "text": [
            "raio = 5.00 / area = 78.50 / comprimento = 31.40\n"
          ]
        }
      ]
    }
  ]
}