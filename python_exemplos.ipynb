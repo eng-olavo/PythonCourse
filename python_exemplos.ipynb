{
  "nbformat": 4,
  "nbformat_minor": 0,
  "metadata": {
    "colab": {
      "provenance": [],
      "authorship_tag": "ABX9TyMVrhb7yuCp7hEP9S5Tvtyq",
      "include_colab_link": true
    },
    "kernelspec": {
      "name": "python3",
      "display_name": "Python 3"
    },
    "language_info": {
      "name": "python"
    }
  },
  "cells": [
    {
      "cell_type": "markdown",
      "metadata": {
        "id": "view-in-github",
        "colab_type": "text"
      },
      "source": [
        "<a href=\"https://colab.research.google.com/github/eng-olavo/PythonCourse/blob/main/python_exemplos.ipynb\" target=\"_parent\"><img src=\"https://colab.research.google.com/assets/colab-badge.svg\" alt=\"Open In Colab\"/></a>"
      ]
    },
    {
      "cell_type": "code",
      "execution_count": 1,
      "metadata": {
        "id": "FHHpTmi_boY-"
      },
      "outputs": [],
      "source": [
        "def myfunction(nome):\n",
        "  print(f\"Bom dia, {nome}!\")\n"
      ]
    },
    {
      "cell_type": "code",
      "source": [
        "myfunction(\"Olavo\")"
      ],
      "metadata": {
        "colab": {
          "base_uri": "https://localhost:8080/"
        },
        "id": "64scbOHKbzaF",
        "outputId": "ef12c56f-c149-45af-f7fe-99ac7e70f22c"
      },
      "execution_count": 2,
      "outputs": [
        {
          "output_type": "stream",
          "name": "stdout",
          "text": [
            "Bom dia, Olavo!\n"
          ]
        }
      ]
    },
    {
      "cell_type": "markdown",
      "source": [
        "\n",
        "\n",
        "---\n",
        "\n"
      ],
      "metadata": {
        "id": "-C48FX3lb9Bl"
      }
    },
    {
      "cell_type": "code",
      "source": [
        "num = int(input(\"Digite um número entre 0 e 9: \"))\n",
        "\n",
        "if num == 0:\n",
        "  print(f\"Você digitou ZERO!\")\n",
        "elif num ==1:\n",
        "  print(f\"Você digitou UM!\")\n",
        "elif num ==2:\n",
        "  print(f\"Você digitou DOIS!\")\n",
        "elif num==3:\n",
        "  print(f\"Você digitou TRÊS!\")\n",
        "elif num==4:\n",
        "  print(f\"Você digitou QUATRO!\")\n",
        "elif num==5:\n",
        "  print(f\"Você digitou CINCO!\")\n",
        "elif num==6:\n",
        "  print(f\"Você digitou SEIS!\")\n",
        "elif num==7:\n",
        "  print(f\"Você digitou SETE!\")\n",
        "elif num==8:\n",
        "  print(f\"Você digitou OITO!\")\n",
        "elif num==9:\n",
        "  print(f\"Você digitou NOVE!\")\n",
        "else:\n",
        "  print(f\"Você digitou um número errado!\")"
      ],
      "metadata": {
        "colab": {
          "base_uri": "https://localhost:8080/"
        },
        "id": "dg4R21g3b96U",
        "outputId": "0c7bf36f-0163-4b8f-d894-9f52ca7df291"
      },
      "execution_count": 9,
      "outputs": [
        {
          "output_type": "stream",
          "name": "stdout",
          "text": [
            "Digite um número entre 0 e 9: 22\n",
            "Você digitou um número errado!\n"
          ]
        }
      ]
    },
    {
      "cell_type": "markdown",
      "source": [
        "\n",
        "\n",
        "---\n",
        "\n"
      ],
      "metadata": {
        "id": "zr0kYA4Sc_Fm"
      }
    },
    {
      "cell_type": "code",
      "source": [
        "for x in range (0,101,10):\n",
        "  print(x)"
      ],
      "metadata": {
        "colab": {
          "base_uri": "https://localhost:8080/"
        },
        "id": "qc6k91eadAHU",
        "outputId": "0050953b-a907-4e7a-c2cd-c86bc6e456b2"
      },
      "execution_count": 12,
      "outputs": [
        {
          "output_type": "stream",
          "name": "stdout",
          "text": [
            "0\n",
            "10\n",
            "20\n",
            "30\n",
            "40\n",
            "50\n",
            "60\n",
            "70\n",
            "80\n",
            "90\n",
            "100\n"
          ]
        }
      ]
    },
    {
      "cell_type": "code",
      "source": [
        "frutas = [\"laranja\", \"limão\", \"morango\"]\n",
        "\n",
        "for fruta in frutas:\n",
        "  print(fruta)"
      ],
      "metadata": {
        "colab": {
          "base_uri": "https://localhost:8080/"
        },
        "id": "Yiyg-LItdSqk",
        "outputId": "53377402-2279-45e1-9598-3e68a0099021"
      },
      "execution_count": 13,
      "outputs": [
        {
          "output_type": "stream",
          "name": "stdout",
          "text": [
            "laranja\n",
            "limão\n",
            "morango\n"
          ]
        }
      ]
    },
    {
      "cell_type": "code",
      "source": [
        "palavra = 'dicionário'\n",
        "\n",
        "for letra in palavra:\n",
        "  print(letra)"
      ],
      "metadata": {
        "colab": {
          "base_uri": "https://localhost:8080/"
        },
        "id": "ioeJCYTVdf-M",
        "outputId": "78a7f4f9-5378-4c0f-9ba2-894feac7f23b"
      },
      "execution_count": 14,
      "outputs": [
        {
          "output_type": "stream",
          "name": "stdout",
          "text": [
            "d\n",
            "i\n",
            "c\n",
            "i\n",
            "o\n",
            "n\n",
            "á\n",
            "r\n",
            "i\n",
            "o\n"
          ]
        }
      ]
    },
    {
      "cell_type": "markdown",
      "source": [
        "\n",
        "\n",
        "---\n",
        "\n"
      ],
      "metadata": {
        "id": "Az4rn-ZKfnhE"
      }
    },
    {
      "cell_type": "code",
      "source": [
        "class Veiculo:\n",
        "  def __init__(self, placa, ano, marca, modelo):\n",
        "    self.placa = placa\n",
        "    self.ano = ano\n",
        "    self.marca = marca\n",
        "    self.modelo = modelo\n",
        "\n",
        "  def __str__(self):\n",
        "    return f\"placa = {self.placa} / ano = {self.ano} / marca = {self.marca} / modelo = {self.modelo}\"\n"
      ],
      "metadata": {
        "id": "Vw7_guIsfotb"
      },
      "execution_count": 21,
      "outputs": []
    },
    {
      "cell_type": "code",
      "source": [
        "v1 = Veiculo('ABC-1234', 1998, 'VW', 'GOL')"
      ],
      "metadata": {
        "id": "F7g_yDGqgl-F"
      },
      "execution_count": 22,
      "outputs": []
    },
    {
      "cell_type": "code",
      "source": [
        "print(v1.placa)\n",
        "print(v1.ano)\n",
        "print(v1.marca)\n",
        "print(v1.modelo)"
      ],
      "metadata": {
        "colab": {
          "base_uri": "https://localhost:8080/"
        },
        "id": "vGOJEeE5g7Kd",
        "outputId": "49aaee83-70a3-4573-f012-30320b2a3236"
      },
      "execution_count": 23,
      "outputs": [
        {
          "output_type": "stream",
          "name": "stdout",
          "text": [
            "ABC-1234\n",
            "1998\n",
            "VW\n",
            "GOL\n"
          ]
        }
      ]
    },
    {
      "cell_type": "code",
      "source": [
        "print(v1)"
      ],
      "metadata": {
        "colab": {
          "base_uri": "https://localhost:8080/"
        },
        "id": "GZJuijdmh2Ic",
        "outputId": "b234b780-0b02-4614-968d-0f1fa708c708"
      },
      "execution_count": 24,
      "outputs": [
        {
          "output_type": "stream",
          "name": "stdout",
          "text": [
            "placa = ABC-1234 / ano = 1998 / marca = VW / modelo = GOL\n"
          ]
        }
      ]
    }
  ]
}